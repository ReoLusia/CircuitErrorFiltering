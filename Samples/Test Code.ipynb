{
 "cells": [
  {
   "cell_type": "code",
   "execution_count": 1,
   "id": "012e2995",
   "metadata": {},
   "outputs": [],
   "source": [
    "from CircuitErrorFiltering import CircuitErrorFiltering"
   ]
  },
  {
   "cell_type": "markdown",
   "id": "d1f4203f",
   "metadata": {},
   "source": [
    "## Test Circuit"
   ]
  },
  {
   "cell_type": "code",
   "execution_count": 2,
   "id": "f63a50cc",
   "metadata": {},
   "outputs": [],
   "source": [
    "def swap_registers(circuit, n):\n",
    "    for qubit in range(n//2):\n",
    "        circuit.swap(qubit, n-qubit-1)\n",
    "    return circuit"
   ]
  },
  {
   "cell_type": "code",
   "execution_count": 3,
   "id": "648e8ab8",
   "metadata": {},
   "outputs": [],
   "source": [
    "def qft_rotations(circuit, n):\n",
    "    \"\"\"Performs qft on the first n qubits in circuit (without swaps)\"\"\"\n",
    "    if n == 0:\n",
    "        return circuit\n",
    "    n -= 1\n",
    "    circuit.h(n)\n",
    "    for qubit in range(n):\n",
    "        circuit.cp(pi/2**(n-qubit), qubit, n)\n",
    "    # At the end of our function, we call the same function again on\n",
    "    # the next qubits (we reduced n by one earlier in the function)\n",
    "    qft_rotations(circuit, n)"
   ]
  },
  {
   "cell_type": "code",
   "execution_count": 4,
   "id": "730a59db",
   "metadata": {},
   "outputs": [],
   "source": [
    "def qft(circuit, n):\n",
    "    \"\"\"QFT on the first n qubits in circuit\"\"\"\n",
    "    qft_rotations(circuit, n)\n",
    "    swap_registers(circuit, n)\n",
    "    return circuit"
   ]
  },
  {
   "cell_type": "code",
   "execution_count": 5,
   "id": "ac35cca9",
   "metadata": {},
   "outputs": [],
   "source": [
    "def inverse_qft(circuit, n):\n",
    "    \"\"\"Does the inverse QFT on the first n qubits in circuit\"\"\"\n",
    "    # First we create a QFT circuit of the correct size:\n",
    "    qft_circ = qft(QuantumCircuit(n), n)\n",
    "    # Then we take the inverse of this circuit\n",
    "    invqft_circ = qft_circ.inverse()\n",
    "    # And add it to the first n qubits in our existing circuit\n",
    "    circuit.append(invqft_circ, circuit.qubits[:n])\n",
    "    return circuit.decompose() # .decompose() allows us to see the individual gates"
   ]
  },
  {
   "cell_type": "code",
   "execution_count": 24,
   "id": "58cc3ee5",
   "metadata": {},
   "outputs": [
    {
     "data": {
      "text/html": [
       "<pre style=\"word-wrap: normal;white-space: pre;background: #fff0;line-height: 1.1;font-family: &quot;Courier New&quot;,Courier,monospace\">     ┌─────────┐┌─────────────┐   ┌───┐                                        \n",
       "q_0: ┤ U2(0,π) ├┤ U(0,0,5π/4) ├─X─┤ H ├─■────────────────────────■─────────────\n",
       "     ├─────────┤├─────────────┤ │ └───┘ │P(-π/2) ┌───┐           │             \n",
       "q_1: ┤ U2(0,π) ├┤ U(0,0,5π/2) ├─┼───────■────────┤ H ├─■─────────┼─────────────\n",
       "     ├─────────┤└┬───────────┬┘ │                └───┘ │P(-π/2)  │P(-π/4) ┌───┐\n",
       "q_2: ┤ U2(0,π) ├─┤ U(0,0,5π) ├──X──────────────────────■─────────■────────┤ H ├\n",
       "     └─────────┘ └───────────┘                                            └───┘</pre>"
      ],
      "text/plain": [
       "     ┌─────────┐┌─────────────┐   ┌───┐                                        \n",
       "q_0: ┤ U2(0,π) ├┤ U(0,0,5π/4) ├─X─┤ H ├─■────────────────────────■─────────────\n",
       "     ├─────────┤├─────────────┤ │ └───┘ │P(-π/2) ┌───┐           │             \n",
       "q_1: ┤ U2(0,π) ├┤ U(0,0,5π/2) ├─┼───────■────────┤ H ├─■─────────┼─────────────\n",
       "     ├─────────┤└┬───────────┬┘ │                └───┘ │P(-π/2)  │P(-π/4) ┌───┐\n",
       "q_2: ┤ U2(0,π) ├─┤ U(0,0,5π) ├──X──────────────────────■─────────■────────┤ H ├\n",
       "     └─────────┘ └───────────┘                                            └───┘"
      ]
     },
     "execution_count": 24,
     "metadata": {},
     "output_type": "execute_result"
    }
   ],
   "source": [
    "from qiskit import QuantumCircuit\n",
    "import math\n",
    "pi = math.pi\n",
    "\n",
    "nqubits = 3\n",
    "number = 5\n",
    "qc = QuantumCircuit(nqubits)\n",
    "for qubit in range(nqubits):\n",
    "    qc.h(qubit)\n",
    "qc.p(number*pi/4,0)\n",
    "qc.p(number*pi/2,1)\n",
    "qc.p(number*pi,2)\n",
    "qc = inverse_qft(qc, nqubits)\n",
    "\n",
    "qc.draw(fold=-1)"
   ]
  },
  {
   "cell_type": "code",
   "execution_count": 109,
   "id": "ae714f4d",
   "metadata": {},
   "outputs": [
    {
     "data": {
      "text/html": [
       "<pre style=\"word-wrap: normal;white-space: pre;background: #fff0;line-height: 1.1;font-family: &quot;Courier New&quot;,Courier,monospace\">global phase: 4.9087\n",
       "     ┌─────────┐┌────┐┌──────────┐     ┌───┐     ┌─────────┐┌────┐┌─────────┐»\n",
       "q_0: ┤ Rz(π/2) ├┤ √X ├┤ Rz(-π/4) ├──■──┤ X ├──■──┤ Rz(π/2) ├┤ √X ├┤ Rz(π/4) ├»\n",
       "     ├─────────┤├────┤└┬────────┬┘  │  └─┬─┘  │  └─────────┘└────┘└─────────┘»\n",
       "q_1: ┤ Rz(π/2) ├┤ √X ├─┤ Rz(-π) ├───┼────┼────┼──────────────────────────────»\n",
       "     ├─────────┤├────┤┌┴────────┴┐┌─┴─┐  │  ┌─┴─┐                            »\n",
       "q_2: ┤ Rz(π/2) ├┤ √X ├┤ Rz(-π/2) ├┤ X ├──■──┤ X ├────────────────────────────»\n",
       "     └─────────┘└────┘└──────────┘└───┘     └───┘                            »\n",
       "«                          ┌──────────┐                                      »\n",
       "«q_0: ──■───────────────■──┤ Rz(-π/8) ├──────────────────────────────────────»\n",
       "«     ┌─┴─┐┌─────────┐┌─┴─┐├─────────┬┘┌────┐┌─────────┐                     »\n",
       "«q_1: ┤ X ├┤ Rz(π/4) ├┤ X ├┤ Rz(π/4) ├─┤ √X ├┤ Rz(π/4) ├──■───────────────■──»\n",
       "«     └───┘└─────────┘└───┘└─────────┘ └────┘└─────────┘┌─┴─┐┌─────────┐┌─┴─┐»\n",
       "«q_2: ──────────────────────────────────────────────────┤ X ├┤ Rz(π/4) ├┤ X ├»\n",
       "«                                                       └───┘└─────────┘└───┘»\n",
       "«                                                                   \n",
       "«q_0: ──────────────■───────────────■───────────────────────────────\n",
       "«                   │               │                               \n",
       "«q_1: ──────────────┼───────────────┼───────────────────────────────\n",
       "«     ┌──────────┐┌─┴─┐┌─────────┐┌─┴─┐┌──────────┐┌────┐┌─────────┐\n",
       "«q_2: ┤ Rz(-π/4) ├┤ X ├┤ Rz(π/8) ├┤ X ├┤ Rz(3π/8) ├┤ √X ├┤ Rz(π/2) ├\n",
       "«     └──────────┘└───┘└─────────┘└───┘└──────────┘└────┘└─────────┘</pre>"
      ],
      "text/plain": [
       "global phase: 4.9087\n",
       "     ┌─────────┐┌────┐┌──────────┐     ┌───┐     ┌─────────┐┌────┐┌─────────┐»\n",
       "q_0: ┤ Rz(π/2) ├┤ √X ├┤ Rz(-π/4) ├──■──┤ X ├──■──┤ Rz(π/2) ├┤ √X ├┤ Rz(π/4) ├»\n",
       "     ├─────────┤├────┤└┬────────┬┘  │  └─┬─┘  │  └─────────┘└────┘└─────────┘»\n",
       "q_1: ┤ Rz(π/2) ├┤ √X ├─┤ Rz(-π) ├───┼────┼────┼──────────────────────────────»\n",
       "     ├─────────┤├────┤┌┴────────┴┐┌─┴─┐  │  ┌─┴─┐                            »\n",
       "q_2: ┤ Rz(π/2) ├┤ √X ├┤ Rz(-π/2) ├┤ X ├──■──┤ X ├────────────────────────────»\n",
       "     └─────────┘└────┘└──────────┘└───┘     └───┘                            »\n",
       "«                          ┌──────────┐                                      »\n",
       "«q_0: ──■───────────────■──┤ Rz(-π/8) ├──────────────────────────────────────»\n",
       "«     ┌─┴─┐┌─────────┐┌─┴─┐├─────────┬┘┌────┐┌─────────┐                     »\n",
       "«q_1: ┤ X ├┤ Rz(π/4) ├┤ X ├┤ Rz(π/4) ├─┤ √X ├┤ Rz(π/4) ├──■───────────────■──»\n",
       "«     └───┘└─────────┘└───┘└─────────┘ └────┘└─────────┘┌─┴─┐┌─────────┐┌─┴─┐»\n",
       "«q_2: ──────────────────────────────────────────────────┤ X ├┤ Rz(π/4) ├┤ X ├»\n",
       "«                                                       └───┘└─────────┘└───┘»\n",
       "«                                                                   \n",
       "«q_0: ──────────────■───────────────■───────────────────────────────\n",
       "«                   │               │                               \n",
       "«q_1: ──────────────┼───────────────┼───────────────────────────────\n",
       "«     ┌──────────┐┌─┴─┐┌─────────┐┌─┴─┐┌──────────┐┌────┐┌─────────┐\n",
       "«q_2: ┤ Rz(-π/4) ├┤ X ├┤ Rz(π/8) ├┤ X ├┤ Rz(3π/8) ├┤ √X ├┤ Rz(π/2) ├\n",
       "«     └──────────┘└───┘└─────────┘└───┘└──────────┘└────┘└─────────┘"
      ]
     },
     "execution_count": 109,
     "metadata": {},
     "output_type": "execute_result"
    }
   ],
   "source": [
    "transpile(circuits = qc, basis_gates = ['cx', 'id', 'rz', 'sx', 'x']).draw()"
   ]
  },
  {
   "cell_type": "code",
   "execution_count": 36,
   "id": "3c8b1225",
   "metadata": {},
   "outputs": [
    {
     "data": {
      "text/plain": [
       "{'101': 1000}"
      ]
     },
     "execution_count": 36,
     "metadata": {},
     "output_type": "execute_result"
    }
   ],
   "source": [
    "qc_transpiled = transpile(circuits = qc, basis_gates = ['cx', 'id', 'rz', 'sx', 'x'])\n",
    "qc_transpiled.measure_all()\n",
    "\n",
    "# Create noisy simulator backend\n",
    "sim = AerSimulator()\n",
    "\n",
    "# Transpile circuit for noisy basis gates\n",
    "circ = transpile(qc_transpiled, sim)\n",
    "\n",
    "# Run and get counts\n",
    "result = sim.run(circ_tnoise, seed_simulator=9, shots=1000).result()\n",
    "\n",
    "result.get_counts()"
   ]
  },
  {
   "cell_type": "code",
   "execution_count": 116,
   "id": "a5d40d61",
   "metadata": {},
   "outputs": [
    {
     "name": "stdout",
     "output_type": "stream",
     "text": [
      "NoiseModel:\n",
      "  Basis gates: ['cx', 'id', 'rz', 'sx', 'x']\n",
      "  Instructions with noise: ['x', 'rz', 'sx']\n",
      "  All-qubits errors: ['rz', 'sx', 'x']\n"
     ]
    },
    {
     "data": {
      "text/plain": [
       "{'101': 804,\n",
       " '011': 30,\n",
       " '001': 65,\n",
       " '010': 4,\n",
       " '111': 28,\n",
       " '110': 24,\n",
       " '100': 37,\n",
       " '000': 8}"
      ]
     },
     "execution_count": 116,
     "metadata": {},
     "output_type": "execute_result"
    }
   ],
   "source": [
    "from qiskit import QuantumCircuit, Aer, transpile\n",
    "from qiskit_aer.noise import NoiseModel, pauli_error, depolarizing_error\n",
    "# Example error probabilities\n",
    "p_gate1 = 0.01\n",
    "\n",
    "# QuantumError objects\n",
    "error_gate1 = pauli_error([('X',p_gate1), ('I', 1 - p_gate1)])\n",
    "error_gate2 = error_gate1.tensor(error_gate1)\n",
    "\n",
    "# Add errors to noise model\n",
    "noise_bit_flip = NoiseModel()\n",
    "#noise_bit_flip.add_all_qubit_quantum_error(error_gate1, [\"sx\"])\n",
    "noise_bit_flip.add_all_qubit_quantum_error(error_gate1, [\"rz\", \"sx\", \"x\"])\n",
    "#noise_bit_flip.add_all_qubit_quantum_error(error_gate2, [\"cx\"])\n",
    "\n",
    "print(noise_bit_flip)\n",
    "\n",
    "from qiskit_aer import AerSimulator\n",
    "\n",
    "# Quantum circuit transpile\n",
    "\n",
    "#qc_transpiled = transpile(circuits = qc, basis_gates = ['cx', 'id', 'rz', 'sx', 'x'])\n",
    "\n",
    "# Create noisy simulator backend\n",
    "sim_noise = AerSimulator(noise_model=noise_bit_flip)\n",
    "\n",
    "# Transpile circuit for noisy basis gates\n",
    "circ_tnoise1 = transpile(qc, sim_noise)\n",
    "circ_tnoise1.measure_all()\n",
    "\n",
    "# Run and get counts\n",
    "result_bit_flip = sim_noise.run(circ_tnoise1, seed_simulator=9, shots=1000).result()\n",
    "result_bit_flip.get_counts()"
   ]
  },
  {
   "cell_type": "code",
   "execution_count": 117,
   "id": "7c6ff5a2",
   "metadata": {},
   "outputs": [],
   "source": [
    "# Transpile circuit for noisy basis gates\n",
    "circ_tnoise2 = transpile(qc, sim_noise)\n",
    "EF_qc = CircuitErrorFiltering(circ_tnoise2, 0)"
   ]
  },
  {
   "cell_type": "code",
   "execution_count": 118,
   "id": "f0462cd6",
   "metadata": {},
   "outputs": [
    {
     "name": "stdout",
     "output_type": "stream",
     "text": [
      "Probability of post-selection: 0.948\n",
      "Post processed counts: {'000': 4, '001': 53, '010': 3, '011': 29, '100': 12, '101': 820, '110': 6, '111': 21}\n"
     ]
    }
   ],
   "source": [
    "__shots = 1000\n",
    "__num_qubits = 3 + 2\n",
    "#__backend_sim = Aer.get_backend('qasm_simulator')\n",
    "__job_sim = sim_noise.run(EF_qc.SingleQubitBitFlip(), seed_simulator=9, shots=__shots)\n",
    "__counts = __job_sim.result().get_counts()\n",
    "\n",
    "# Parameter setting\n",
    "__counts_postprocess = {}\n",
    "\n",
    "# bitstrings\n",
    "__format_bitstring = '{0:0' + str(3) + 'b}'\n",
    "__bitstring_keys = [__format_bitstring.format(ii) for ii in range(2**3)]\n",
    "__counts_postprocess = {key: 0 for key, value in dict.fromkeys(__bitstring_keys).items()}\n",
    "\n",
    "for result_string in __counts:\n",
    "    if result_string[0:2] == '00':\n",
    "        __counts_postprocess[result_string[2:__num_qubits]] = __counts[result_string]\n",
    "\n",
    "print('Probability of post-selection:', sum(__counts_postprocess.values())/__shots)\n",
    "print('Post processed counts:', __counts_postprocess)"
   ]
  },
  {
   "cell_type": "code",
   "execution_count": 129,
   "id": "e2c782df",
   "metadata": {},
   "outputs": [
    {
     "name": "stdout",
     "output_type": "stream",
     "text": [
      "NoiseModel:\n",
      "  Basis gates: ['cx', 'id', 'rz', 'sx', 'x']\n",
      "  Instructions with noise: ['x', 'cx', 'rz', 'sx']\n",
      "  All-qubits errors: ['rz', 'sx', 'x', 'cx']\n"
     ]
    },
    {
     "data": {
      "text/plain": [
       "{'101': 817,\n",
       " '011': 21,\n",
       " '001': 59,\n",
       " '010': 10,\n",
       " '111': 20,\n",
       " '110': 24,\n",
       " '100': 35,\n",
       " '000': 14}"
      ]
     },
     "execution_count": 129,
     "metadata": {},
     "output_type": "execute_result"
    }
   ],
   "source": [
    "from qiskit import QuantumCircuit, Aer, transpile\n",
    "from qiskit_aer.noise import NoiseModel, pauli_error, depolarizing_error\n",
    "# Example error probabilities\n",
    "error1 = depolarizing_error(0.01, 1)\n",
    "error2 = depolarizing_error(0.01, 2)\n",
    "\n",
    "# Add errors to noise model\n",
    "noise_model = NoiseModel()\n",
    "#noise_bit_flip.add_all_qubit_quantum_error(error_gate1, [\"sx\"])\n",
    "noise_model.add_all_qubit_quantum_error(error1, [\"rz\", \"sx\", \"x\"])\n",
    "noise_model.add_all_qubit_quantum_error(error2, [\"cx\"])\n",
    "\n",
    "print(noise_model)\n",
    "\n",
    "from qiskit_aer import AerSimulator\n",
    "\n",
    "# Quantum circuit transpile\n",
    "\n",
    "#qc_transpiled = transpile(circuits = qc, basis_gates = ['cx', 'id', 'rz', 'sx', 'x'])\n",
    "\n",
    "# Create noisy simulator backend\n",
    "sim_noise = AerSimulator(noise_model=noise_model)\n",
    "\n",
    "# Transpile circuit for noisy basis gates\n",
    "circ_tnoise1 = transpile(qc, sim_noise)\n",
    "circ_tnoise1.measure_all()\n",
    "\n",
    "# Run and get counts\n",
    "result_bit_flip = sim_noise.run(circ_tnoise1, seed_simulator=9, shots=1000).result()\n",
    "result_bit_flip.get_counts()"
   ]
  },
  {
   "cell_type": "code",
   "execution_count": 130,
   "id": "bb34c267",
   "metadata": {},
   "outputs": [],
   "source": [
    "# Transpile circuit for noisy basis gates\n",
    "circ_tnoise2 = transpile(qc, sim_noise)\n",
    "EF_qc = CircuitErrorFiltering(circ_tnoise2, 0)"
   ]
  },
  {
   "cell_type": "code",
   "execution_count": 131,
   "id": "0eaeb996",
   "metadata": {},
   "outputs": [
    {
     "name": "stdout",
     "output_type": "stream",
     "text": [
      "Probability of post-selection: 0.912\n",
      "Post processed counts: {'000': 7, '001': 53, '010': 7, '011': 20, '100': 16, '101': 773, '110': 11, '111': 25}\n"
     ]
    }
   ],
   "source": [
    "__shots = 1000\n",
    "__num_qubits = 3 + 2\n",
    "#__backend_sim = Aer.get_backend('qasm_simulator')\n",
    "__job_sim = sim_noise.run(EF_qc.SingleQubitBitFlip(), seed_simulator=9, shots=__shots)\n",
    "__counts = __job_sim.result().get_counts()\n",
    "\n",
    "# Parameter setting\n",
    "__counts_postprocess = {}\n",
    "\n",
    "# bitstrings\n",
    "__format_bitstring = '{0:0' + str(3) + 'b}'\n",
    "__bitstring_keys = [__format_bitstring.format(ii) for ii in range(2**3)]\n",
    "__counts_postprocess = {key: 0 for key, value in dict.fromkeys(__bitstring_keys).items()}\n",
    "\n",
    "for result_string in __counts:\n",
    "    if result_string[0:2] == '00':\n",
    "        __counts_postprocess[result_string[2:__num_qubits]] = __counts[result_string]\n",
    "\n",
    "print('Probability of post-selection:', sum(__counts_postprocess.values())/__shots)\n",
    "print('Post processed counts:', __counts_postprocess)"
   ]
  },
  {
   "cell_type": "code",
   "execution_count": 173,
   "id": "5917322f",
   "metadata": {},
   "outputs": [
    {
     "name": "stdout",
     "output_type": "stream",
     "text": [
      "NoiseModel:\n",
      "  Basis gates: ['cx', 'id', 'rz', 'sx', 'x']\n",
      "  Instructions with noise: ['x', 'cx', 'rz', 'sx']\n",
      "  Qubits with noise: [0, 1, 2]\n",
      "  Specific qubit errors: [('rz', (0,)), ('rz', (1,)), ('rz', (2,)), ('sx', (0,)), ('sx', (1,)), ('sx', (2,)), ('x', (0,)), ('x', (1,)), ('x', (2,)), ('cx', (0, 1)), ('cx', (0, 2)), ('cx', (1, 2)), ('cx', (2, 0))]\n"
     ]
    },
    {
     "data": {
      "text/plain": [
       "{'101': 817,\n",
       " '011': 21,\n",
       " '001': 59,\n",
       " '010': 10,\n",
       " '111': 20,\n",
       " '110': 24,\n",
       " '100': 35,\n",
       " '000': 14}"
      ]
     },
     "execution_count": 173,
     "metadata": {},
     "output_type": "execute_result"
    }
   ],
   "source": [
    "from qiskit import QuantumCircuit, Aer, transpile\n",
    "from qiskit_aer.noise import NoiseModel, pauli_error, depolarizing_error\n",
    "# Example error probabilities\n",
    "error1 = depolarizing_error(0.01, 1)\n",
    "error2 = depolarizing_error(0.01, 2)\n",
    "\n",
    "# Add errors to noise model\n",
    "noise_model = NoiseModel()\n",
    "#noise_bit_flip.add_all_qubit_quantum_error(error_gate1, [\"sx\"])\n",
    "noise_model.add_quantum_error(error1, [\"rz\", \"sx\", \"x\"], [0])\n",
    "noise_model.add_quantum_error(error1, [\"rz\", \"sx\", \"x\"], [1])\n",
    "noise_model.add_quantum_error(error1, [\"rz\", \"sx\", \"x\"], [2])\n",
    "noise_model.add_quantum_error(error2, [\"cx\"], [0,1])\n",
    "noise_model.add_quantum_error(error2, [\"cx\"], [0,2])\n",
    "noise_model.add_quantum_error(error2, [\"cx\"], [1,2])\n",
    "noise_model.add_quantum_error(error2, [\"cx\"], [2,0])\n",
    "\n",
    "print(noise_model)\n",
    "\n",
    "from qiskit_aer import AerSimulator\n",
    "\n",
    "# Quantum circuit transpile\n",
    "\n",
    "#qc_transpiled = transpile(circuits = qc, basis_gates = ['cx', 'id', 'rz', 'sx', 'x'])\n",
    "\n",
    "# Create noisy simulator backend\n",
    "sim_noise = AerSimulator(noise_model=noise_model)\n",
    "\n",
    "# Transpile circuit for noisy basis gates\n",
    "circ_tnoise1 = transpile(qc, sim_noise)\n",
    "circ_tnoise1.measure_all()\n",
    "\n",
    "# Run and get counts\n",
    "result_bit_flip = sim_noise.run(circ_tnoise1, seed_simulator=9, shots=1000).result()\n",
    "result_bit_flip.get_counts()"
   ]
  },
  {
   "cell_type": "code",
   "execution_count": 174,
   "id": "8b96888e",
   "metadata": {},
   "outputs": [],
   "source": [
    "# Transpile circuit for noisy basis gates\n",
    "circ_tnoise2 = transpile(qc, sim_noise)\n",
    "EF_qc = CircuitErrorFiltering(circ_tnoise2, 0)"
   ]
  },
  {
   "cell_type": "code",
   "execution_count": 175,
   "id": "0f6b9380",
   "metadata": {},
   "outputs": [
    {
     "name": "stdout",
     "output_type": "stream",
     "text": [
      "Probability of post-selection: 0.944\n",
      "Post processed counts: {'000': 5, '001': 50, '010': 4, '011': 24, '100': 10, '101': 828, '110': 5, '111': 18}\n"
     ]
    }
   ],
   "source": [
    "__shots = 1000\n",
    "__num_qubits = 3 + 2\n",
    "#__backend_sim = Aer.get_backend('qasm_simulator')\n",
    "__job_sim = sim_noise.run(EF_qc.SingleQubitBitFlip(), seed_simulator=9, shots=__shots)\n",
    "__counts = __job_sim.result().get_counts()\n",
    "\n",
    "# Parameter setting\n",
    "__counts_postprocess = {}\n",
    "\n",
    "# bitstrings\n",
    "__format_bitstring = '{0:0' + str(3) + 'b}'\n",
    "__bitstring_keys = [__format_bitstring.format(ii) for ii in range(2**3)]\n",
    "__counts_postprocess = {key: 0 for key, value in dict.fromkeys(__bitstring_keys).items()}\n",
    "\n",
    "for result_string in __counts:\n",
    "    if result_string[0:2] == '00':\n",
    "        __counts_postprocess[result_string[2:__num_qubits]] = __counts[result_string]\n",
    "\n",
    "print('Probability of post-selection:', sum(__counts_postprocess.values())/__shots)\n",
    "print('Post processed counts:', __counts_postprocess)"
   ]
  },
  {
   "cell_type": "code",
   "execution_count": 4,
   "id": "d3cd9f35",
   "metadata": {},
   "outputs": [
    {
     "data": {
      "image/png": "[encoded data removed]",
      "text/plain": [
       "<Figure size 504x360 with 1 Axes>"
      ]
     },
     "execution_count": 4,
     "metadata": {},
     "output_type": "execute_result"
    }
   ],
   "source": [
    "from qiskit.visualization import plot_histogram\n",
    "\n",
    "ideal_result = {'000': 0, '001': 0, '010': 0, '011': 0, '100': 0, '101': 1000, '110': 0, '111': 0}\n",
    "noisy_model = {'101': 817,\n",
    " '011': 21,\n",
    " '001': 59,\n",
    " '010': 10,\n",
    " '111': 20,\n",
    " '110': 24,\n",
    " '100': 35,\n",
    " '000': 14}\n",
    "error_filtered_anoise = {'000': 7, '001': 53, '010': 7, '011': 20, '100': 16, '101': 773, '110': 11, '111': 25}\n",
    "error_filtered_pnoise = {'000': 5, '001': 50, '010': 4, '011': 24, '100': 10, '101': 828, '110': 5, '111': 18}\n",
    "\n",
    "#title_qas = \"\"\n",
    "legend = [\"Ideal\", \"Noisy Model\", \"Noisy Model with EF\", \"Noisy Model(Partial) with EF\"]\n",
    "plot_histogram([ideal_result, noisy_model, error_filtered_anoise, error_filtered_pnoise], \n",
    "               legend = legend, bar_labels=False)"
   ]
  },
  {
   "cell_type": "code",
   "execution_count": null,
   "id": "c6e60079",
   "metadata": {},
   "outputs": [],
   "source": []
  }
 ],
 "metadata": {
  "kernelspec": {
   "display_name": "Python 3",
   "language": "python",
   "name": "python3"
  },
  "language_info": {
   "codemirror_mode": {
    "name": "ipython",
    "version": 3
   },
   "file_extension": ".py",
   "mimetype": "text/x-python",
   "name": "python",
   "nbconvert_exporter": "python",
   "pygments_lexer": "ipython3",
   "version": "3.8.8"
  }
 },
 "nbformat": 4,
 "nbformat_minor": 5
}
