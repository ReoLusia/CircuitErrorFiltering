{
 "cells": [
  {
   "cell_type": "markdown",
   "id": "abd1d149",
   "metadata": {},
   "source": [
    "## General Parameter Setting"
   ]
  },
  {
   "cell_type": "code",
   "execution_count": 91,
   "id": "6f62278b",
   "metadata": {},
   "outputs": [],
   "source": [
    "import qiskit_aer.noise as noise\n",
    "\n",
    "# Error probabilities\n",
    "prob_1 = 0.001   # 1-qubit gate\n",
    "prob_2 = 0.01    # 2-qubit gate\n",
    "\n",
    "# Depolarizing quantum errors\n",
    "error_1 = noise.depolarizing_error(prob_1, 1)\n",
    "error_2 = noise.depolarizing_error(prob_2, 2)\n",
    "\n",
    "# Add errors to noise model\n",
    "noise_model = noise.NoiseModel()\n",
    "# noise_model.add_all_qubit_quantum_error(error_1, ['u1', 'u2', 'u3'])\n",
    "noise_model.add_all_qubit_quantum_error(error_2, ['cx'])\n",
    "\n",
    "# Get basis gates from noise model\n",
    "basis_gates = noise_model.basis_gates"
   ]
  },
  {
   "cell_type": "markdown",
   "id": "d418c2ff",
   "metadata": {},
   "source": [
    "## Function Def."
   ]
  },
  {
   "cell_type": "code",
   "execution_count": 56,
   "id": "7fcd882b",
   "metadata": {},
   "outputs": [],
   "source": [
    "from qiskit import QuantumCircuit\n",
    "\n",
    "# n-qubit GHZ generator circuit\n",
    "def gen_nGHZ_circ(num_qubit=2):\n",
    "    # Set num_qubit >= 2\n",
    "    try:\n",
    "        if num_qubit<2:\n",
    "            raise Exception(\"Nonvalid num_qubit\")\n",
    "    except Exception as e:\n",
    "        raise ValueError(e)\n",
    "    \n",
    "    # n-qubit GHZ circuit\n",
    "    circ = QuantumCircuit(num_qubit, num_qubit)\n",
    "    circ.h(0)\n",
    "    \n",
    "    for i in range(num_qubit-1):\n",
    "        circ.cx(0, i+1)\n",
    "    \n",
    "    circ.barrier()\n",
    "    circ.measure(range(num_qubit), range(num_qubit))\n",
    "    \n",
    "    return circ"
   ]
  },
  {
   "cell_type": "code",
   "execution_count": 88,
   "id": "865f953d",
   "metadata": {},
   "outputs": [
    {
     "data": {
      "text/html": [
       "<pre style=\"word-wrap: normal;white-space: pre;background: #fff0;line-height: 1.1;font-family: &quot;Courier New&quot;,Courier,monospace\">     ┌───┐           ░ ┌─┐      \n",
       "q_0: ┤ H ├──■────■───░─┤M├──────\n",
       "     └───┘┌─┴─┐  │   ░ └╥┘┌─┐   \n",
       "q_1: ─────┤ X ├──┼───░──╫─┤M├───\n",
       "          └───┘┌─┴─┐ ░  ║ └╥┘┌─┐\n",
       "q_2: ──────────┤ X ├─░──╫──╫─┤M├\n",
       "               └───┘ ░  ║  ║ └╥┘\n",
       "c: 3/═══════════════════╩══╩══╩═\n",
       "                        0  1  2 </pre>"
      ],
      "text/plain": [
       "     ┌───┐           ░ ┌─┐      \n",
       "q_0: ┤ H ├──■────■───░─┤M├──────\n",
       "     └───┘┌─┴─┐  │   ░ └╥┘┌─┐   \n",
       "q_1: ─────┤ X ├──┼───░──╫─┤M├───\n",
       "          └───┘┌─┴─┐ ░  ║ └╥┘┌─┐\n",
       "q_2: ──────────┤ X ├─░──╫──╫─┤M├\n",
       "               └───┘ ░  ║  ║ └╥┘\n",
       "c: 3/═══════════════════╩══╩══╩═\n",
       "                        0  1  2 "
      ]
     },
     "execution_count": 88,
     "metadata": {},
     "output_type": "execute_result"
    }
   ],
   "source": [
    "circ = gen_nGHZ_circ(num_qubit=3)\n",
    "circ.draw()"
   ]
  },
  {
   "cell_type": "code",
   "execution_count": 84,
   "id": "31273ada",
   "metadata": {},
   "outputs": [],
   "source": [
    "from qiskit import QuantumCircuit\n",
    "from numpy import pi\n",
    "\n",
    "# n-qubit GHZ generator circuit (with error rejection)\n",
    "def gen_nGHZ_ER_circ(num_qubit=2):\n",
    "    # Set num_qubit >= 2\n",
    "    try:\n",
    "        if num_qubit<2:\n",
    "            raise Exception(\"Nonvalid num_qubit\")\n",
    "    except Exception as e:\n",
    "        raise ValueError(e)\n",
    "    \n",
    "    # n-qubit GHZ circuit (ER encoded)\n",
    "    encoded_qubit = 1\n",
    "    ancilla_qubit = 1\n",
    "    tot_qubit = num_qubit + encoded_qubit + ancilla_qubit\n",
    "    \n",
    "    circ = QuantumCircuit(tot_qubit, tot_qubit)\n",
    "    \n",
    "    # Logical Hadamard gate\n",
    "    circ.h(1)\n",
    "    circ.cry(pi,1,0)\n",
    "    circ.h([0,1])\n",
    "    \n",
    "    for i in range(num_qubit-1):\n",
    "        circ.cx(0, i + 1 + encoded_qubit + ancilla_qubit)\n",
    "    \n",
    "    # Error rejection part\n",
    "    circ.barrier()\n",
    "    circ.cx(0, encoded_qubit + ancilla_qubit)\n",
    "    circ.cx(1, encoded_qubit + ancilla_qubit)\n",
    "    \n",
    "    circ.barrier()\n",
    "    circ.measure(range(tot_qubit), range(tot_qubit))\n",
    "    \n",
    "    return circ"
   ]
  },
  {
   "cell_type": "code",
   "execution_count": 87,
   "id": "6869484c",
   "metadata": {},
   "outputs": [
    {
     "data": {
      "text/html": [
       "<pre style=\"word-wrap: normal;white-space: pre;background: #fff0;line-height: 1.1;font-family: &quot;Courier New&quot;,Courier,monospace\">          ┌───────┐┌───┐           ░            ░ ┌─┐            \n",
       "q_0: ─────┤ Ry(π) ├┤ H ├──■────■───░───■────────░─┤M├────────────\n",
       "     ┌───┐└───┬───┘├───┤  │    │   ░   │        ░ └╥┘┌─┐         \n",
       "q_1: ┤ H ├────■────┤ H ├──┼────┼───░───┼────■───░──╫─┤M├─────────\n",
       "     └───┘         └───┘  │    │   ░ ┌─┴─┐┌─┴─┐ ░  ║ └╥┘┌─┐      \n",
       "q_2: ─────────────────────┼────┼───░─┤ X ├┤ X ├─░──╫──╫─┤M├──────\n",
       "                        ┌─┴─┐  │   ░ └───┘└───┘ ░  ║  ║ └╥┘┌─┐   \n",
       "q_3: ───────────────────┤ X ├──┼───░────────────░──╫──╫──╫─┤M├───\n",
       "                        └───┘┌─┴─┐ ░            ░  ║  ║  ║ └╥┘┌─┐\n",
       "q_4: ────────────────────────┤ X ├─░────────────░──╫──╫──╫──╫─┤M├\n",
       "                             └───┘ ░            ░  ║  ║  ║  ║ └╥┘\n",
       "c: 5/══════════════════════════════════════════════╩══╩══╩══╩══╩═\n",
       "                                                   0  1  2  3  4 </pre>"
      ],
      "text/plain": [
       "          ┌───────┐┌───┐           ░            ░ ┌─┐            \n",
       "q_0: ─────┤ Ry(π) ├┤ H ├──■────■───░───■────────░─┤M├────────────\n",
       "     ┌───┐└───┬───┘├───┤  │    │   ░   │        ░ └╥┘┌─┐         \n",
       "q_1: ┤ H ├────■────┤ H ├──┼────┼───░───┼────■───░──╫─┤M├─────────\n",
       "     └───┘         └───┘  │    │   ░ ┌─┴─┐┌─┴─┐ ░  ║ └╥┘┌─┐      \n",
       "q_2: ─────────────────────┼────┼───░─┤ X ├┤ X ├─░──╫──╫─┤M├──────\n",
       "                        ┌─┴─┐  │   ░ └───┘└───┘ ░  ║  ║ └╥┘┌─┐   \n",
       "q_3: ───────────────────┤ X ├──┼───░────────────░──╫──╫──╫─┤M├───\n",
       "                        └───┘┌─┴─┐ ░            ░  ║  ║  ║ └╥┘┌─┐\n",
       "q_4: ────────────────────────┤ X ├─░────────────░──╫──╫──╫──╫─┤M├\n",
       "                             └───┘ ░            ░  ║  ║  ║  ║ └╥┘\n",
       "c: 5/══════════════════════════════════════════════╩══╩══╩══╩══╩═\n",
       "                                                   0  1  2  3  4 "
      ]
     },
     "execution_count": 87,
     "metadata": {},
     "output_type": "execute_result"
    }
   ],
   "source": [
    "circ = gen_nGHZ_ER_circ(num_qubit=3)\n",
    "circ.draw()"
   ]
  },
  {
   "cell_type": "code",
   "execution_count": 157,
   "id": "53234897",
   "metadata": {},
   "outputs": [],
   "source": [
    "# Post processing step for error rejection\n",
    "# : Select \"0\" result on ancilla part, must be same result in encoded qubits\n",
    "def nGHZ_ER_postprocessing(counts):\n",
    "\n",
    "    # Post processed counts\n",
    "    counts_pp = {}\n",
    "    \n",
    "    # Select proper key and adjust\n",
    "    for key, value in counts.items():\n",
    "        if (key[len(key)-1]==key[len(key)-2]) and (key[len(key)-3]=='0'):\n",
    "            counts_pp[key[0:len(key)-3] + key[len(key)-1]] = value\n",
    "    \n",
    "    return counts_pp"
   ]
  },
  {
   "cell_type": "code",
   "execution_count": 318,
   "id": "5c96ebbc",
   "metadata": {},
   "outputs": [],
   "source": [
    "import math as ma\n",
    "\n",
    "def pd_similarity(counts):\n",
    "    \n",
    "    # Get total counts\n",
    "    total_count = 0\n",
    "    for value in counts.values():\n",
    "        total_count += value\n",
    "        \n",
    "    # Converts to probability distribution\n",
    "    for key, value in counts.items():\n",
    "        st_len = len(key)\n",
    "        counts[key] = value/total_count\n",
    "    \n",
    "    # List of ordered value\n",
    "    for i in range(int(ma.pow(2,st_len))):\n",
    "        binary = (bin(i)[2:].zfill(st_len))\n",
    "        if binary not in list(counts):\n",
    "            counts[binary] = 0\n",
    "    counts = sorted(counts.items())       \n",
    "    \n",
    "    # Construct ideal probability distribution\n",
    "    st0 = \"\"\n",
    "    for i in range(st_len):\n",
    "        st0 += \"0\"\n",
    "    st1 = \"\"\n",
    "    for i in range(st_len):\n",
    "        st1 += \"1\"\n",
    "    counts_id = {st0: 1/2, st1: 1/2}\n",
    "    \n",
    "    # List of ordered value\n",
    "    for i in range(int(ma.pow(2,st_len))):\n",
    "        binary = (bin(i)[2:].zfill(st_len))\n",
    "        if binary not in list(counts_id):\n",
    "            counts_id[binary] = 0\n",
    "    counts_id = sorted(counts_id.items())       \n",
    "    \n",
    "    \n",
    "    # Calculate similarity\n",
    "    similarity = 0\n",
    "    for i in range(int(ma.pow(2,st_len))):\n",
    "        similarity += pow(counts[i][1] - counts_id[i][1], 2)\n",
    "    similarity = similarity/int(ma.pow(2,st_len))\n",
    "    \n",
    "    return similarity"
   ]
  },
  {
   "cell_type": "markdown",
   "id": "ad649dba",
   "metadata": {},
   "source": [
    "## Execution Part"
   ]
  },
  {
   "cell_type": "code",
   "execution_count": 338,
   "id": "3efafe43",
   "metadata": {},
   "outputs": [
    {
     "name": "stdout",
     "output_type": "stream",
     "text": [
      "{'1000': 2, '0000': 504, '1111': 476, '0010': 3, '1011': 3, '1101': 8, '0111': 1, '0001': 2, '0110': 1}\n",
      "4.275000000000006e-05\n"
     ]
    }
   ],
   "source": [
    "from qiskit import execute, Aer\n",
    "from qiskit.visualization import plot_histogram, plot_distribution\n",
    "\n",
    "# Perform a noise simulation\n",
    "result = execute(gen_nGHZ_circ(num_qubit=4), \n",
    "                 Aer.get_backend('qasm_simulator'),\n",
    "                 basis_gates=basis_gates,\n",
    "                 noise_model=noise_model,\n",
    "                 shots=1000).result()\n",
    "counts_nGHZ = result.get_counts()\n",
    "print(counts_nGHZ)\n",
    "plot_distribution(counts_nGHZ)\n",
    "print(pd_similarity(counts_nGHZ))"
   ]
  },
  {
   "cell_type": "code",
   "execution_count": 339,
   "id": "821d044f",
   "metadata": {},
   "outputs": [
    {
     "name": "stdout",
     "output_type": "stream",
     "text": [
      "{'1111': 475, '0000': 474, '1011': 1, '0111': 1, '0100': 4, '0010': 1}\n"
     ]
    },
    {
     "data": {
      "text/plain": [
       "3.0089634285114205e-06"
      ]
     },
     "execution_count": 339,
     "metadata": {},
     "output_type": "execute_result"
    }
   ],
   "source": [
    "from qiskit import execute, Aer\n",
    "from qiskit.visualization import plot_histogram, plot_distribution\n",
    "\n",
    "# Perform a noise simulation\n",
    "result = execute(gen_nGHZ_ER_circ(num_qubit=4), \n",
    "                 Aer.get_backend('qasm_simulator'),\n",
    "                 basis_gates=basis_gates,\n",
    "                 noise_model=noise_model,\n",
    "                 shots=1000).result()\n",
    "counts_nGHZ_ER = result.get_counts()\n",
    "\n",
    "# Post processing\n",
    "counts_pp_nGHZ_ER = nGHZ_ER_postprocessing(counts_nGHZ_ER)\n",
    "\n",
    "print(counts_pp_nGHZ_ER)\n",
    "plot_distribution(counts_pp_nGHZ_ER)\n",
    "pd_similarity(counts_pp_nGHZ_ER)"
   ]
  },
  {
   "cell_type": "code",
   "execution_count": 353,
   "id": "73437c76",
   "metadata": {},
   "outputs": [
    {
     "data": {
      "image/png": "[encoded data removed]",
      "text/plain": [
       "<Figure size 432x288 with 1 Axes>"
      ]
     },
     "metadata": {
      "needs_background": "light"
     },
     "output_type": "display_data"
    }
   ],
   "source": [
    "from qiskit import execute, Aer\n",
    "import numpy as np\n",
    "import matplotlib.pyplot as plt\n",
    "\n",
    "# Initial variable setting\n",
    "num_qubit = 2\n",
    "rep = 10000\n",
    "shots = 1000\n",
    "pd_sim_ner = []\n",
    "pd_sim_wer = []\n",
    "\n",
    "# Collecting results\n",
    "for x in range(rep):\n",
    "    # Perform a noise simulation (no error rejection)\n",
    "    result_ner = execute(gen_nGHZ_circ(num_qubit), \n",
    "                     Aer.get_backend('qasm_simulator'),\n",
    "                     basis_gates=basis_gates,\n",
    "                     noise_model=noise_model,\n",
    "                     shots=shots).result()\n",
    "    pd_sim_ner.append(pd_similarity(result_ner.get_counts()))\n",
    "    \n",
    "    # Perform a noise simulation (with error rejection)\n",
    "    result_wer = execute(gen_nGHZ_ER_circ(num_qubit), \n",
    "                     Aer.get_backend('qasm_simulator'),\n",
    "                     basis_gates=basis_gates,\n",
    "                     noise_model=noise_model,\n",
    "                     shots=shots).result()\n",
    "    pd_sim_wer.append(pd_similarity(nGHZ_ER_postprocessing(result_wer.get_counts())))\n",
    "    \n",
    "# Analysis\n",
    "means = [np.mean(pd_sim_ner), np.mean(pd_sim_wer)]\n",
    "std = [np.std(pd_sim_ner), np.std(pd_sim_wer)]\n",
    "\n",
    "plt.errorbar([\"NER\", \"WER\"], means, yerr=std, fmt='o')\n",
    "plt.grid(True, axis='y', alpha=0.5, linestyle='--')\n",
    "plt.show()"
   ]
  },
  {
   "cell_type": "code",
   "execution_count": 354,
   "id": "99cc5a09",
   "metadata": {},
   "outputs": [
    {
     "data": {
      "image/png": "[encoded data removed]",
      "text/plain": [
       "<Figure size 432x288 with 1 Axes>"
      ]
     },
     "metadata": {
      "needs_background": "light"
     },
     "output_type": "display_data"
    }
   ],
   "source": [
    "from qiskit import execute, Aer\n",
    "import numpy as np\n",
    "import matplotlib.pyplot as plt\n",
    "\n",
    "# Initial variable setting\n",
    "num_qubit = 3\n",
    "rep = 10000\n",
    "shots = 1000\n",
    "pd_sim_ner = []\n",
    "pd_sim_wer = []\n",
    "\n",
    "# Collecting results\n",
    "for x in range(rep):\n",
    "    # Perform a noise simulation (no error rejection)\n",
    "    result_ner = execute(gen_nGHZ_circ(num_qubit), \n",
    "                     Aer.get_backend('qasm_simulator'),\n",
    "                     basis_gates=basis_gates,\n",
    "                     noise_model=noise_model,\n",
    "                     shots=shots).result()\n",
    "    pd_sim_ner.append(pd_similarity(result_ner.get_counts()))\n",
    "    \n",
    "    # Perform a noise simulation (with error rejection)\n",
    "    result_wer = execute(gen_nGHZ_ER_circ(num_qubit), \n",
    "                     Aer.get_backend('qasm_simulator'),\n",
    "                     basis_gates=basis_gates,\n",
    "                     noise_model=noise_model,\n",
    "                     shots=shots).result()\n",
    "    pd_sim_wer.append(pd_similarity(nGHZ_ER_postprocessing(result_wer.get_counts())))\n",
    "    \n",
    "# Analysis\n",
    "means = [np.mean(pd_sim_ner), np.mean(pd_sim_wer)]\n",
    "std = [np.std(pd_sim_ner), np.std(pd_sim_wer)]\n",
    "\n",
    "plt.errorbar([\"NER\", \"WER\"], means, yerr=std, fmt='o')\n",
    "plt.grid(True, axis='y', alpha=0.5, linestyle='--')\n",
    "plt.show()"
   ]
  },
  {
   "cell_type": "code",
   "execution_count": 355,
   "id": "c3322695",
   "metadata": {},
   "outputs": [
    {
     "data": {
      "image/png": "[encoded data removed]",
      "text/plain": [
       "<Figure size 432x288 with 1 Axes>"
      ]
     },
     "metadata": {
      "needs_background": "light"
     },
     "output_type": "display_data"
    }
   ],
   "source": [
    "from qiskit import execute, Aer\n",
    "import numpy as np\n",
    "import matplotlib.pyplot as plt\n",
    "\n",
    "# Initial variable setting\n",
    "num_qubit = 4\n",
    "rep = 10000\n",
    "shots = 1000\n",
    "pd_sim_ner = []\n",
    "pd_sim_wer = []\n",
    "\n",
    "# Collecting results\n",
    "for x in range(rep):\n",
    "    # Perform a noise simulation (no error rejection)\n",
    "    result_ner = execute(gen_nGHZ_circ(num_qubit), \n",
    "                     Aer.get_backend('qasm_simulator'),\n",
    "                     basis_gates=basis_gates,\n",
    "                     noise_model=noise_model,\n",
    "                     shots=shots).result()\n",
    "    pd_sim_ner.append(pd_similarity(result_ner.get_counts()))\n",
    "    \n",
    "    # Perform a noise simulation (with error rejection)\n",
    "    result_wer = execute(gen_nGHZ_ER_circ(num_qubit), \n",
    "                     Aer.get_backend('qasm_simulator'),\n",
    "                     basis_gates=basis_gates,\n",
    "                     noise_model=noise_model,\n",
    "                     shots=shots).result()\n",
    "    pd_sim_wer.append(pd_similarity(nGHZ_ER_postprocessing(result_wer.get_counts())))\n",
    "    \n",
    "# Analysis\n",
    "means = [np.mean(pd_sim_ner), np.mean(pd_sim_wer)]\n",
    "std = [np.std(pd_sim_ner), np.std(pd_sim_wer)]\n",
    "\n",
    "plt.errorbar([\"NER\", \"WER\"], means, yerr=std, fmt='o')\n",
    "plt.grid(True, axis='y', alpha=0.5, linestyle='--')\n",
    "plt.show()"
   ]
  },
  {
   "cell_type": "code",
   "execution_count": 356,
   "id": "6da0c6e8",
   "metadata": {},
   "outputs": [
    {
     "data": {
      "image/png": "[encoded data removed]",
      "text/plain": [
       "<Figure size 432x288 with 1 Axes>"
      ]
     },
     "metadata": {
      "needs_background": "light"
     },
     "output_type": "display_data"
    }
   ],
   "source": [
    "from qiskit import execute, Aer\n",
    "import numpy as np\n",
    "import matplotlib.pyplot as plt\n",
    "\n",
    "# Initial variable setting\n",
    "num_qubit = 5\n",
    "rep = 10000\n",
    "shots = 1000\n",
    "pd_sim_ner = []\n",
    "pd_sim_wer = []\n",
    "\n",
    "# Collecting results\n",
    "for x in range(rep):\n",
    "    # Perform a noise simulation (no error rejection)\n",
    "    result_ner = execute(gen_nGHZ_circ(num_qubit), \n",
    "                     Aer.get_backend('qasm_simulator'),\n",
    "                     basis_gates=basis_gates,\n",
    "                     noise_model=noise_model,\n",
    "                     shots=shots).result()\n",
    "    pd_sim_ner.append(pd_similarity(result_ner.get_counts()))\n",
    "    \n",
    "    # Perform a noise simulation (with error rejection)\n",
    "    result_wer = execute(gen_nGHZ_ER_circ(num_qubit), \n",
    "                     Aer.get_backend('qasm_simulator'),\n",
    "                     basis_gates=basis_gates,\n",
    "                     noise_model=noise_model,\n",
    "                     shots=shots).result()\n",
    "    pd_sim_wer.append(pd_similarity(nGHZ_ER_postprocessing(result_wer.get_counts())))\n",
    "    \n",
    "# Analysis\n",
    "means = [np.mean(pd_sim_ner), np.mean(pd_sim_wer)]\n",
    "std = [np.std(pd_sim_ner), np.std(pd_sim_wer)]\n",
    "\n",
    "plt.errorbar([\"NER\", \"WER\"], means, yerr=std, fmt='o')\n",
    "plt.grid(True, axis='y', alpha=0.5, linestyle='--')\n",
    "plt.show()"
   ]
  },
  {
   "cell_type": "code",
   "execution_count": 357,
   "id": "0beeca73",
   "metadata": {},
   "outputs": [
    {
     "data": {
      "image/png": "[encoded data removed]",
      "text/plain": [
       "<Figure size 432x288 with 1 Axes>"
      ]
     },
     "metadata": {
      "needs_background": "light"
     },
     "output_type": "display_data"
    }
   ],
   "source": [
    "from qiskit import execute, Aer\n",
    "import numpy as np\n",
    "import matplotlib.pyplot as plt\n",
    "\n",
    "# Initial variable setting\n",
    "num_qubit = 6\n",
    "rep = 10000\n",
    "shots = 1000\n",
    "pd_sim_ner = []\n",
    "pd_sim_wer = []\n",
    "\n",
    "# Collecting results\n",
    "for x in range(rep):\n",
    "    # Perform a noise simulation (no error rejection)\n",
    "    result_ner = execute(gen_nGHZ_circ(num_qubit), \n",
    "                     Aer.get_backend('qasm_simulator'),\n",
    "                     basis_gates=basis_gates,\n",
    "                     noise_model=noise_model,\n",
    "                     shots=shots).result()\n",
    "    pd_sim_ner.append(pd_similarity(result_ner.get_counts()))\n",
    "    \n",
    "    # Perform a noise simulation (with error rejection)\n",
    "    result_wer = execute(gen_nGHZ_ER_circ(num_qubit), \n",
    "                     Aer.get_backend('qasm_simulator'),\n",
    "                     basis_gates=basis_gates,\n",
    "                     noise_model=noise_model,\n",
    "                     shots=shots).result()\n",
    "    pd_sim_wer.append(pd_similarity(nGHZ_ER_postprocessing(result_wer.get_counts())))\n",
    "    \n",
    "# Analysis\n",
    "means = [np.mean(pd_sim_ner), np.mean(pd_sim_wer)]\n",
    "std = [np.std(pd_sim_ner), np.std(pd_sim_wer)]\n",
    "\n",
    "plt.errorbar([\"NER\", \"WER\"], means, yerr=std, fmt='o')\n",
    "plt.grid(True, axis='y', alpha=0.5, linestyle='--')\n",
    "plt.show()"
   ]
  },
  {
   "cell_type": "code",
   "execution_count": 358,
   "id": "83a0299b",
   "metadata": {},
   "outputs": [
    {
     "data": {
      "image/png": "[encoded data removed]",
      "text/plain": [
       "<Figure size 432x288 with 1 Axes>"
      ]
     },
     "metadata": {
      "needs_background": "light"
     },
     "output_type": "display_data"
    }
   ],
   "source": [
    "from qiskit import execute, Aer\n",
    "import numpy as np\n",
    "import matplotlib.pyplot as plt\n",
    "\n",
    "# Initial variable setting\n",
    "num_qubit = 7\n",
    "rep = 10000\n",
    "shots = 1000\n",
    "pd_sim_ner = []\n",
    "pd_sim_wer = []\n",
    "\n",
    "# Collecting results\n",
    "for x in range(rep):\n",
    "    # Perform a noise simulation (no error rejection)\n",
    "    result_ner = execute(gen_nGHZ_circ(num_qubit), \n",
    "                     Aer.get_backend('qasm_simulator'),\n",
    "                     basis_gates=basis_gates,\n",
    "                     noise_model=noise_model,\n",
    "                     shots=shots).result()\n",
    "    pd_sim_ner.append(pd_similarity(result_ner.get_counts()))\n",
    "    \n",
    "    # Perform a noise simulation (with error rejection)\n",
    "    result_wer = execute(gen_nGHZ_ER_circ(num_qubit), \n",
    "                     Aer.get_backend('qasm_simulator'),\n",
    "                     basis_gates=basis_gates,\n",
    "                     noise_model=noise_model,\n",
    "                     shots=shots).result()\n",
    "    pd_sim_wer.append(pd_similarity(nGHZ_ER_postprocessing(result_wer.get_counts())))\n",
    "    \n",
    "# Analysis\n",
    "means = [np.mean(pd_sim_ner), np.mean(pd_sim_wer)]\n",
    "std = [np.std(pd_sim_ner), np.std(pd_sim_wer)]\n",
    "\n",
    "plt.errorbar([\"NER\", \"WER\"], means, yerr=std, fmt='o')\n",
    "plt.grid(True, axis='y', alpha=0.5, linestyle='--')\n",
    "plt.show()"
   ]
  },
  {
   "cell_type": "code",
   "execution_count": null,
   "id": "f195ec27",
   "metadata": {},
   "outputs": [],
   "source": []
  }
 ],
 "metadata": {
  "kernelspec": {
   "display_name": "Python 3",
   "language": "python",
   "name": "python3"
  },
  "language_info": {
   "codemirror_mode": {
    "name": "ipython",
    "version": 3
   },
   "file_extension": ".py",
   "mimetype": "text/x-python",
   "name": "python",
   "nbconvert_exporter": "python",
   "pygments_lexer": "ipython3",
   "version": "3.8.8"
  }
 },
 "nbformat": 4,
 "nbformat_minor": 5
}
