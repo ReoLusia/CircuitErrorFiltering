{
 "cells": [
  {
   "cell_type": "code",
   "execution_count": 1,
   "id": "a7782a3b",
   "metadata": {},
   "outputs": [],
   "source": [
    "import matplotlib.pyplot as plt\n",
    "import numpy as np\n",
    "from qiskit import QuantumCircuit, Aer, transpile, assemble\n",
    "from qiskit.visualization import plot_histogram, plot_distribution\n",
    "from math import gcd\n",
    "from numpy.random import randint\n",
    "from numpy import pi"
   ]
  },
  {
   "cell_type": "code",
   "execution_count": 2,
   "id": "b8df95ab",
   "metadata": {},
   "outputs": [
    {
     "name": "stdout",
     "output_type": "stream",
     "text": [
      "<IBMBackend('ibmq_lima')>\n",
      "<IBMBackend('ibm_perth')>\n",
      "<IBMBackend('ibmq_quito')>\n",
      "<IBMBackend('ibmq_belem')>\n",
      "<IBMBackend('ibmq_manila')>\n",
      "<IBMBackend('ibm_nairobi')>\n",
      "<IBMBackend('ibm_lagos')>\n",
      "<IBMBackend('ibmq_jakarta')>\n"
     ]
    }
   ],
   "source": [
    "from qiskit_ibm_provider import IBMProvider\n",
    "\n",
    "provider = IBMProvider()\n",
    "my_backends = provider.backends(min_num_qubits=5, simulator=False, operational=True)\n",
    "\n",
    "for backend in my_backends:\n",
    "    print(backend) # only available for 7-qubit device"
   ]
  },
  {
   "cell_type": "code",
   "execution_count": 3,
   "id": "b48109a9",
   "metadata": {},
   "outputs": [],
   "source": [
    "def qft_rotations(circuit, n):\n",
    "    \"\"\"Performs qft on the first n qubits in circuit (without swaps)\"\"\"\n",
    "    if n == 0:\n",
    "        return circuit\n",
    "    n -= 1\n",
    "    circuit.h(n)\n",
    "    for qubit in range(n):\n",
    "        circuit.cp(pi/2**(n-qubit), qubit, n)\n",
    "    # At the end of our function, we call the same function again on\n",
    "    # the next qubits (we reduced n by one earlier in the function)\n",
    "    qft_rotations(circuit, n)"
   ]
  },
  {
   "cell_type": "code",
   "execution_count": 4,
   "id": "a36eb134",
   "metadata": {},
   "outputs": [],
   "source": [
    "def swap_registers(circuit, n):\n",
    "    for qubit in range(n//2):\n",
    "        circuit.swap(qubit, n-qubit-1)\n",
    "    return circuit"
   ]
  },
  {
   "cell_type": "code",
   "execution_count": 5,
   "id": "9942b7a9",
   "metadata": {},
   "outputs": [],
   "source": [
    "def qft(circuit, n):\n",
    "    \"\"\"QFT on the first n qubits in circuit\"\"\"\n",
    "    qft_rotations(circuit, n)\n",
    "    swap_registers(circuit, n)\n",
    "    return circuit"
   ]
  },
  {
   "cell_type": "code",
   "execution_count": 6,
   "id": "9fb05fa0",
   "metadata": {},
   "outputs": [
    {
     "data": {
      "text/html": [
       "<pre style=\"word-wrap: normal;white-space: pre;background: #fff0;line-height: 1.1;font-family: &quot;Courier New&quot;,Courier,monospace\">           ░                                      ┌───┐    ░ ┌─┐      \n",
       "q_0: ──────░───────■──────────────────────■───────┤ H ├─X──░─┤M├──────\n",
       "     ┌───┐ ░       │                ┌───┐ │P(π/2) └───┘ │  ░ └╥┘┌─┐   \n",
       "q_1: ┤ X ├─░───────┼────────■───────┤ H ├─■─────────────┼──░──╫─┤M├───\n",
       "     └───┘ ░ ┌───┐ │P(π/4)  │P(π/2) └───┘               │  ░  ║ └╥┘┌─┐\n",
       "q_2: ──────░─┤ H ├─■────────■───────────────────────────X──░──╫──╫─┤M├\n",
       "           ░ └───┘                                         ░  ║  ║ └╥┘\n",
       "c: 3/═════════════════════════════════════════════════════════╩══╩══╩═\n",
       "                                                              0  1  2 </pre>"
      ],
      "text/plain": [
       "           ░                                      ┌───┐    ░ ┌─┐      \n",
       "q_0: ──────░───────■──────────────────────■───────┤ H ├─X──░─┤M├──────\n",
       "     ┌───┐ ░       │                ┌───┐ │P(π/2) └───┘ │  ░ └╥┘┌─┐   \n",
       "q_1: ┤ X ├─░───────┼────────■───────┤ H ├─■─────────────┼──░──╫─┤M├───\n",
       "     └───┘ ░ ┌───┐ │P(π/4)  │P(π/2) └───┘               │  ░  ║ └╥┘┌─┐\n",
       "q_2: ──────░─┤ H ├─■────────■───────────────────────────X──░──╫──╫─┤M├\n",
       "           ░ └───┘                                         ░  ║  ║ └╥┘\n",
       "c: 3/═════════════════════════════════════════════════════════╩══╩══╩═\n",
       "                                                              0  1  2 "
      ]
     },
     "execution_count": 6,
     "metadata": {},
     "output_type": "execute_result"
    }
   ],
   "source": [
    "qc = QuantumCircuit(3, 3)\n",
    "\n",
    "qc.x(1)\n",
    "\n",
    "qc.barrier()\n",
    "qft(qc,3)\n",
    "qc.barrier()\n",
    "qc.measure(range(3), range(3))\n",
    "qc.draw()"
   ]
  },
  {
   "cell_type": "code",
   "execution_count": 7,
   "id": "e7acaca3",
   "metadata": {},
   "outputs": [
    {
     "data": {
      "image/png": "[encoded data removed]",
      "text/plain": [
       "<Figure size 504x360 with 1 Axes>"
      ]
     },
     "execution_count": 7,
     "metadata": {},
     "output_type": "execute_result"
    }
   ],
   "source": [
    "aer_sim = Aer.get_backend('aer_simulator')\n",
    "qc_transpiled = transpile(qc, aer_sim, optimization_level=0)\n",
    "\n",
    "results = aer_sim.run(qc_transpiled).result()\n",
    "counts = results.get_counts()\n",
    "plot_distribution(counts)"
   ]
  },
  {
   "cell_type": "code",
   "execution_count": 8,
   "id": "f4333d0c",
   "metadata": {},
   "outputs": [],
   "source": [
    "def inverse_qft(circuit, n):\n",
    "    \"\"\"Does the inverse QFT on the first n qubits in circuit\"\"\"\n",
    "    # First we create a QFT circuit of the correct size:\n",
    "    qft_circ = qft(QuantumCircuit(n), n)\n",
    "    # Then we take the inverse of this circuit\n",
    "    invqft_circ = qft_circ.inverse()\n",
    "    # And add it to the first n qubits in our existing circuit\n",
    "    circuit.append(invqft_circ, circuit.qubits[:n])\n",
    "    return circuit.decompose() # .decompose() allows us to see the individual gates"
   ]
  },
  {
   "cell_type": "code",
   "execution_count": 9,
   "id": "7d7fe50b",
   "metadata": {},
   "outputs": [
    {
     "data": {
      "text/html": [
       "<pre style=\"word-wrap: normal;white-space: pre;background: #fff0;line-height: 1.1;font-family: &quot;Courier New&quot;,Courier,monospace\">     ┌───┐┌─────────┐\n",
       "q_0: ┤ H ├┤ P(5π/4) ├\n",
       "     ├───┤├─────────┤\n",
       "q_1: ┤ H ├┤ P(5π/2) ├\n",
       "     ├───┤└┬───────┬┘\n",
       "q_2: ┤ H ├─┤ P(5π) ├─\n",
       "     └───┘ └───────┘ </pre>"
      ],
      "text/plain": [
       "     ┌───┐┌─────────┐\n",
       "q_0: ┤ H ├┤ P(5π/4) ├\n",
       "     ├───┤├─────────┤\n",
       "q_1: ┤ H ├┤ P(5π/2) ├\n",
       "     ├───┤└┬───────┬┘\n",
       "q_2: ┤ H ├─┤ P(5π) ├─\n",
       "     └───┘ └───────┘ "
      ]
     },
     "execution_count": 9,
     "metadata": {},
     "output_type": "execute_result"
    }
   ],
   "source": [
    "nqubits = 3\n",
    "number = 5\n",
    "qc = QuantumCircuit(nqubits)\n",
    "for qubit in range(nqubits):\n",
    "    qc.h(qubit)\n",
    "qc.p(number*pi/4,0)\n",
    "qc.p(number*pi/2,1)\n",
    "qc.p(number*pi,2)\n",
    "\n",
    "qc.draw()"
   ]
  },
  {
   "cell_type": "code",
   "execution_count": 10,
   "id": "3ac96239",
   "metadata": {},
   "outputs": [
    {
     "data": {
      "text/html": [
       "<pre style=\"word-wrap: normal;white-space: pre;background: #fff0;line-height: 1.1;font-family: &quot;Courier New&quot;,Courier,monospace\">        ┌─────────┐┌─────────────┐   ┌───┐                                   »\n",
       "   q_0: ┤ U2(0,π) ├┤ U(0,0,5π/4) ├─X─┤ H ├─■────────────────────────■────────»\n",
       "        ├─────────┤├─────────────┤ │ └───┘ │P(-π/2) ┌───┐           │        »\n",
       "   q_1: ┤ U2(0,π) ├┤ U(0,0,5π/2) ├─┼───────■────────┤ H ├─■─────────┼────────»\n",
       "        ├─────────┤└┬───────────┬┘ │                └───┘ │P(-π/2)  │P(-π/4) »\n",
       "   q_2: ┤ U2(0,π) ├─┤ U(0,0,5π) ├──X──────────────────────■─────────■────────»\n",
       "        └─────────┘ └───────────┘                                            »\n",
       "meas: 3/═════════════════════════════════════════════════════════════════════»\n",
       "                                                                             »\n",
       "«              ░ ┌─┐      \n",
       "«   q_0: ──────░─┤M├──────\n",
       "«              ░ └╥┘┌─┐   \n",
       "«   q_1: ──────░──╫─┤M├───\n",
       "«        ┌───┐ ░  ║ └╥┘┌─┐\n",
       "«   q_2: ┤ H ├─░──╫──╫─┤M├\n",
       "«        └───┘ ░  ║  ║ └╥┘\n",
       "«meas: 3/═════════╩══╩══╩═\n",
       "«                 0  1  2 </pre>"
      ],
      "text/plain": [
       "        ┌─────────┐┌─────────────┐   ┌───┐                                   »\n",
       "   q_0: ┤ U2(0,π) ├┤ U(0,0,5π/4) ├─X─┤ H ├─■────────────────────────■────────»\n",
       "        ├─────────┤├─────────────┤ │ └───┘ │P(-π/2) ┌───┐           │        »\n",
       "   q_1: ┤ U2(0,π) ├┤ U(0,0,5π/2) ├─┼───────■────────┤ H ├─■─────────┼────────»\n",
       "        ├─────────┤└┬───────────┬┘ │                └───┘ │P(-π/2)  │P(-π/4) »\n",
       "   q_2: ┤ U2(0,π) ├─┤ U(0,0,5π) ├──X──────────────────────■─────────■────────»\n",
       "        └─────────┘ └───────────┘                                            »\n",
       "meas: 3/═════════════════════════════════════════════════════════════════════»\n",
       "                                                                             »\n",
       "«              ░ ┌─┐      \n",
       "«   q_0: ──────░─┤M├──────\n",
       "«              ░ └╥┘┌─┐   \n",
       "«   q_1: ──────░──╫─┤M├───\n",
       "«        ┌───┐ ░  ║ └╥┘┌─┐\n",
       "«   q_2: ┤ H ├─░──╫──╫─┤M├\n",
       "«        └───┘ ░  ║  ║ └╥┘\n",
       "«meas: 3/═════════╩══╩══╩═\n",
       "«                 0  1  2 "
      ]
     },
     "execution_count": 10,
     "metadata": {},
     "output_type": "execute_result"
    }
   ],
   "source": [
    "qc = inverse_qft(qc, nqubits)\n",
    "qc.measure_all()\n",
    "qc.draw()"
   ]
  },
  {
   "cell_type": "code",
   "execution_count": 11,
   "id": "915086b6",
   "metadata": {},
   "outputs": [
    {
     "name": "stdout",
     "output_type": "stream",
     "text": [
      "{'101': 1024}\n"
     ]
    },
    {
     "data": {
      "image/png": "[encoded data removed]",
      "text/plain": [
       "<Figure size 504x360 with 1 Axes>"
      ]
     },
     "execution_count": 11,
     "metadata": {},
     "output_type": "execute_result"
    }
   ],
   "source": [
    "aer_sim = Aer.get_backend('aer_simulator')\n",
    "qc_transpiled = transpile(qc, aer_sim, optimization_level=0)\n",
    "\n",
    "results = aer_sim.run(qc_transpiled).result()\n",
    "counts = results.get_counts()\n",
    "print(counts)\n",
    "plot_distribution(counts)"
   ]
  },
  {
   "cell_type": "markdown",
   "id": "f374d1fd",
   "metadata": {},
   "source": [
    "## Simulation on Quantum Devices (Q1 Code)"
   ]
  },
  {
   "cell_type": "code",
   "execution_count": 12,
   "id": "8c31feaf",
   "metadata": {},
   "outputs": [
    {
     "name": "stdout",
     "output_type": "stream",
     "text": [
      "Circuit Depth : 29\n",
      "{'000': 137, '001': 274, '010': 38, '011': 270, '100': 332, '101': 2614, '110': 131, '111': 204}\n"
     ]
    },
    {
     "data": {
      "image/png": "[encoded data removed]",
      "text/plain": [
       "<Figure size 504x360 with 1 Axes>"
      ]
     },
     "execution_count": 12,
     "metadata": {},
     "output_type": "execute_result"
    }
   ],
   "source": [
    "from qiskit.visualization import plot_distribution\n",
    "\n",
    "backend = provider.get_backend('ibmq_quito')\n",
    "qc_quito = transpile(qc, backend, optimization_level=2, initial_layout=[1,3,4])\n",
    "\n",
    "print(\"Circuit Depth :\", qc_quito.depth())\n",
    "results = backend.run(qc_quito).result()\n",
    "counts = results.get_counts()\n",
    "print(counts)\n",
    "plot_distribution(counts)"
   ]
  },
  {
   "cell_type": "code",
   "execution_count": 13,
   "id": "96d6249c",
   "metadata": {},
   "outputs": [
    {
     "name": "stdout",
     "output_type": "stream",
     "text": [
      "Circuit Depth : 29\n",
      "{'000': 205, '001': 318, '010': 99, '011': 169, '100': 710, '101': 2106, '110': 181, '111': 212}\n"
     ]
    },
    {
     "data": {
      "image/png": "[encoded data removed]",
      "text/plain": [
       "<Figure size 504x360 with 1 Axes>"
      ]
     },
     "execution_count": 13,
     "metadata": {},
     "output_type": "execute_result"
    }
   ],
   "source": [
    "backend = provider.get_backend('ibmq_lima')\n",
    "qc_lima = transpile(qc, backend, optimization_level=2, initial_layout=[1,3,4])\n",
    "\n",
    "print(\"Circuit Depth :\", qc_lima.depth())\n",
    "results = backend.run(qc_lima).result()\n",
    "counts = results.get_counts()\n",
    "print(counts)\n",
    "plot_distribution(counts)"
   ]
  },
  {
   "cell_type": "code",
   "execution_count": 14,
   "id": "df3f068a",
   "metadata": {},
   "outputs": [
    {
     "name": "stdout",
     "output_type": "stream",
     "text": [
      "Circuit Depth : 29\n",
      "{'000': 138, '001': 427, '010': 62, '011': 190, '100': 234, '101': 2684, '110': 68, '111': 197}\n"
     ]
    },
    {
     "data": {
      "image/png": "[encoded data removed]",
      "text/plain": [
       "<Figure size 504x360 with 1 Axes>"
      ]
     },
     "execution_count": 14,
     "metadata": {},
     "output_type": "execute_result"
    }
   ],
   "source": [
    "backend = provider.get_backend('ibmq_belem')\n",
    "qc_belem = transpile(qc, backend, optimization_level=2, initial_layout=[1,3,4])\n",
    "\n",
    "print(\"Circuit Depth :\", qc_belem.depth())\n",
    "results = backend.run(qc_belem).result()\n",
    "counts = results.get_counts()\n",
    "print(counts)\n",
    "plot_distribution(counts)"
   ]
  },
  {
   "cell_type": "code",
   "execution_count": 15,
   "id": "bf2c1b91",
   "metadata": {},
   "outputs": [
    {
     "name": "stdout",
     "output_type": "stream",
     "text": [
      "Circuit Depth : 29\n",
      "{'000': 116, '001': 377, '010': 41, '011': 333, '100': 252, '101': 2612, '110': 44, '111': 225}\n"
     ]
    },
    {
     "data": {
      "image/png": "[encoded data removed]",
      "text/plain": [
       "<Figure size 504x360 with 1 Axes>"
      ]
     },
     "execution_count": 15,
     "metadata": {},
     "output_type": "execute_result"
    }
   ],
   "source": [
    "backend = provider.get_backend('ibm_nairobi')\n",
    "qc_nairobi = transpile(qc, backend, optimization_level=2, initial_layout=[1,3,5])\n",
    "\n",
    "print(\"Circuit Depth :\", qc_nairobi.depth())\n",
    "results = backend.run(qc_nairobi).result()\n",
    "counts = results.get_counts()\n",
    "print(counts)\n",
    "plot_distribution(counts)"
   ]
  },
  {
   "cell_type": "code",
   "execution_count": 16,
   "id": "473d18e7",
   "metadata": {},
   "outputs": [
    {
     "name": "stdout",
     "output_type": "stream",
     "text": [
      "Circuit Depth : 29\n",
      "{'000': 41, '001': 304, '010': 27, '011': 319, '100': 194, '101': 2824, '110': 94, '111': 197}\n"
     ]
    },
    {
     "data": {
      "image/png": "[encoded data removed]",
      "text/plain": [
       "<Figure size 504x360 with 1 Axes>"
      ]
     },
     "execution_count": 16,
     "metadata": {},
     "output_type": "execute_result"
    }
   ],
   "source": [
    "backend = provider.get_backend('ibm_perth')\n",
    "qc_perth = transpile(qc, backend, optimization_level=2, initial_layout=[1,3,5])\n",
    "\n",
    "print(\"Circuit Depth :\", qc_perth.depth())\n",
    "results = backend.run(qc_perth).result()\n",
    "counts = results.get_counts()\n",
    "print(counts)\n",
    "plot_distribution(counts)"
   ]
  },
  {
   "cell_type": "code",
   "execution_count": 17,
   "id": "d7bcc122",
   "metadata": {},
   "outputs": [
    {
     "name": "stdout",
     "output_type": "stream",
     "text": [
      "Circuit Depth : 29\n"
     ]
    },
    {
     "name": "stderr",
     "output_type": "stream",
     "text": [
      "C:\\Users\\user\\AppData\\Roaming\\Python\\Python38\\site-packages\\qiskit_ibm_provider\\ibm_backend.py:437: UserWarning: The backend ibm_lagos is currently paused.\n",
      "  warnings.warn(f\"The backend {self.name} is currently paused.\")\n"
     ]
    },
    {
     "name": "stdout",
     "output_type": "stream",
     "text": [
      "{'000': 28, '001': 224, '010': 28, '011': 294, '100': 94, '101': 2909, '110': 73, '111': 350}\n"
     ]
    },
    {
     "data": {
      "image/png": "[encoded data removed]",
      "text/plain": [
       "<Figure size 504x360 with 1 Axes>"
      ]
     },
     "execution_count": 17,
     "metadata": {},
     "output_type": "execute_result"
    }
   ],
   "source": [
    "backend = provider.get_backend('ibm_lagos')\n",
    "qc_lagos = transpile(qc, backend, optimization_level=2, initial_layout=[1,3,5])\n",
    "\n",
    "print(\"Circuit Depth :\", qc_lagos.depth())\n",
    "results = backend.run(qc_lagos).result()\n",
    "counts = results.get_counts()\n",
    "print(counts)\n",
    "plot_distribution(counts)"
   ]
  },
  {
   "cell_type": "code",
   "execution_count": 18,
   "id": "9f3fe02d",
   "metadata": {},
   "outputs": [
    {
     "name": "stdout",
     "output_type": "stream",
     "text": [
      "Circuit Depth : 29\n",
      "{'000': 67, '001': 298, '010': 34, '011': 159, '100': 283, '101': 2899, '110': 54, '111': 206}\n"
     ]
    },
    {
     "data": {
      "image/png": "[encoded data removed]",
      "text/plain": [
       "<Figure size 504x360 with 1 Axes>"
      ]
     },
     "execution_count": 18,
     "metadata": {},
     "output_type": "execute_result"
    }
   ],
   "source": [
    "backend = provider.get_backend('ibmq_manila')\n",
    "qc_manila = transpile(qc, backend, optimization_level=2, initial_layout=[2,3,4])\n",
    "\n",
    "print(\"Circuit Depth :\", qc_manila.depth())\n",
    "results = backend.run(qc_manila).result()\n",
    "counts = results.get_counts()\n",
    "print(counts)\n",
    "plot_distribution(counts)"
   ]
  },
  {
   "cell_type": "code",
   "execution_count": 19,
   "id": "7760d912",
   "metadata": {},
   "outputs": [
    {
     "name": "stdout",
     "output_type": "stream",
     "text": [
      "Circuit Depth : 29\n",
      "{'000': 48, '001': 327, '010': 32, '011': 128, '100': 264, '101': 2914, '110': 98, '111': 189}\n"
     ]
    },
    {
     "data": {
      "image/png": "[encoded data removed]",
      "text/plain": [
       "<Figure size 504x360 with 1 Axes>"
      ]
     },
     "execution_count": 19,
     "metadata": {},
     "output_type": "execute_result"
    }
   ],
   "source": [
    "backend = provider.get_backend('ibmq_jakarta')\n",
    "qc_jakarta = transpile(qc, backend, optimization_level=2, initial_layout=[1,3,5])\n",
    "\n",
    "print(\"Circuit Depth :\", qc_jakarta.depth())\n",
    "results = backend.run(qc_jakarta).result()\n",
    "counts = results.get_counts()\n",
    "print(counts)\n",
    "plot_distribution(counts)"
   ]
  },
  {
   "cell_type": "markdown",
   "id": "eecf2e5f",
   "metadata": {},
   "source": [
    "## Simulation on Quantum Devices (Q2 Code / partially SWAP)"
   ]
  },
  {
   "cell_type": "code",
   "execution_count": 12,
   "id": "7c2f94f1",
   "metadata": {},
   "outputs": [
    {
     "data": {
      "text/html": [
       "<pre style=\"word-wrap: normal;white-space: pre;background: #fff0;line-height: 1.1;font-family: &quot;Courier New&quot;,Courier,monospace\">     ┌───┐┌─────────┐\n",
       "q_0: ┤ H ├┤ P(5π/4) ├\n",
       "     └───┘└─────────┘\n",
       "q_1: ────────────────\n",
       "                     \n",
       "q_2: ────────────────\n",
       "     ┌───┐┌─────────┐\n",
       "q_3: ┤ H ├┤ P(5π/2) ├\n",
       "     ├───┤└┬───────┬┘\n",
       "q_4: ┤ H ├─┤ P(5π) ├─\n",
       "     └───┘ └───────┘ </pre>"
      ],
      "text/plain": [
       "     ┌───┐┌─────────┐\n",
       "q_0: ┤ H ├┤ P(5π/4) ├\n",
       "     └───┘└─────────┘\n",
       "q_1: ────────────────\n",
       "                     \n",
       "q_2: ────────────────\n",
       "     ┌───┐┌─────────┐\n",
       "q_3: ┤ H ├┤ P(5π/2) ├\n",
       "     ├───┤└┬───────┬┘\n",
       "q_4: ┤ H ├─┤ P(5π) ├─\n",
       "     └───┘ └───────┘ "
      ]
     },
     "execution_count": 12,
     "metadata": {},
     "output_type": "execute_result"
    }
   ],
   "source": [
    "number = 5\n",
    "qc = QuantumCircuit(5)\n",
    "qc.h([0,3,4])\n",
    "qc.p(number*pi/4,0)\n",
    "qc.p(number*pi/2,3)\n",
    "qc.p(number*pi,4)\n",
    "\n",
    "qc.draw()"
   ]
  },
  {
   "cell_type": "code",
   "execution_count": 13,
   "id": "c2d9b728",
   "metadata": {},
   "outputs": [
    {
     "data": {
      "text/html": [
       "<pre style=\"word-wrap: normal;white-space: pre;background: #fff0;line-height: 1.1;font-family: &quot;Courier New&quot;,Courier,monospace\">        ┌───┐┌─────────┐ ░      ┌───┐ ░ ┌───┐     ┌───┐ ░ ┌───┐┌───┐┌───┐     »\n",
       "   q_0: ┤ H ├┤ P(5π/4) ├─░───■──┤ H ├─░─┤ H ├──■──┤ H ├─░─┤ H ├┤ X ├┤ H ├─────»\n",
       "        └───┘└─────────┘ ░ ┌─┴─┐├───┤ ░ ├───┤  │  ├───┤ ░ ├───┤└─┬─┘├───┤┌───┐»\n",
       "   q_1: ─────────────────░─┤ X ├┤ H ├─░─┤ H ├──■──┤ H ├─░─┤ H ├──┼──┤ X ├┤ H ├»\n",
       "                         ░ └───┘└───┘ ░ └───┘  │  └───┘ ░ └───┘  │  └─┬─┘└───┘»\n",
       "   q_2: ─────────────────░────────────░────────┼────────░────────┼────┼───────»\n",
       "        ┌───┐┌─────────┐ ░            ░        │        ░        │    │       »\n",
       "   q_3: ┤ H ├┤ P(5π/2) ├─░────────────░────────┼────────░────────┼────┼───────»\n",
       "        ├───┤└┬───────┬┘ ░            ░      ┌─┴─┐      ░        │    │       »\n",
       "   q_4: ┤ H ├─┤ P(5π) ├──░────────────░──────┤ X ├──────░────────■────■───────»\n",
       "        └───┘ └───────┘  ░            ░      └───┘      ░                     »\n",
       "meas: 5/══════════════════════════════════════════════════════════════════════»\n",
       "                                                                              »\n",
       "«         ░ ┌───┐     ┌───┐ ░ ┌───┐┌───────┐ ░ ┌───┐          ┌───┐ ░ ┌───┐»\n",
       "«   q_0: ─░─┤ H ├──■──┤ H ├─░─┤ H ├┤ Ry(π) ├─░─┤ H ├─■────────┤ H ├─░─┤ H ├»\n",
       "«         ░ ├───┤  │  ├───┤ ░ └───┘└───┬───┘ ░ ├───┤ │        ├───┤ ░ ├───┤»\n",
       "«   q_1: ─░─┤ H ├──■──┤ H ├─░──────────■─────░─┤ H ├─■────────┤ H ├─░─┤ H ├»\n",
       "«         ░ └───┘  │  └───┘ ░                ░ └───┘ │        └───┘ ░ └───┘»\n",
       "«   q_2: ─░────────┼────────░────────────────░───────┼──────────────░──────»\n",
       "«         ░        │        ░                ░       │P(-π/2) ┌───┐ ░      »\n",
       "«   q_3: ─░────────┼────────░────────────────░───────■────────┤ H ├─░──────»\n",
       "«         ░      ┌─┴─┐      ░                ░                └───┘ ░      »\n",
       "«   q_4: ─░──────┤ X ├──────░────────────────░──────────────────────░──────»\n",
       "«         ░      └───┘      ░                ░                      ░      »\n",
       "«meas: 5/══════════════════════════════════════════════════════════════════»\n",
       "«                                                                          »\n",
       "«                    ┌───┐         ░ ┌───┐           ░  ░ ┌─┐            \n",
       "«   q_0: ─■──────────┤ H ├─────────░─┤ H ├──■────────░──░─┤M├────────────\n",
       "«         │          ├───┤         ░ ├───┤  │        ░  ░ └╥┘┌─┐         \n",
       "«   q_1: ─■──────────┤ H ├─────────░─┤ H ├──┼────■───░──░──╫─┤M├─────────\n",
       "«         │          └───┘         ░ └───┘┌─┴─┐┌─┴─┐ ░  ░  ║ └╥┘┌─┐      \n",
       "«   q_2: ─┼────────────────────────░──────┤ X ├┤ X ├─░──░──╫──╫─┤M├──────\n",
       "«         │                        ░      └───┘└───┘ ░  ░  ║  ║ └╥┘┌─┐   \n",
       "«   q_3: ─┼─────────■──────────────░─────────────────░──░──╫──╫──╫─┤M├───\n",
       "«         │P(-π/4)  │P(-π/2) ┌───┐ ░                 ░  ░  ║  ║  ║ └╥┘┌─┐\n",
       "«   q_4: ─■─────────■────────┤ H ├─░─────────────────░──░──╫──╫──╫──╫─┤M├\n",
       "«                            └───┘ ░                 ░  ░  ║  ║  ║  ║ └╥┘\n",
       "«meas: 5/══════════════════════════════════════════════════╩══╩══╩══╩══╩═\n",
       "«                                                          0  1  2  3  4 </pre>"
      ],
      "text/plain": [
       "        ┌───┐┌─────────┐ ░      ┌───┐ ░ ┌───┐     ┌───┐ ░ ┌───┐┌───┐┌───┐     »\n",
       "   q_0: ┤ H ├┤ P(5π/4) ├─░───■──┤ H ├─░─┤ H ├──■──┤ H ├─░─┤ H ├┤ X ├┤ H ├─────»\n",
       "        └───┘└─────────┘ ░ ┌─┴─┐├───┤ ░ ├───┤  │  ├───┤ ░ ├───┤└─┬─┘├───┤┌───┐»\n",
       "   q_1: ─────────────────░─┤ X ├┤ H ├─░─┤ H ├──■──┤ H ├─░─┤ H ├──┼──┤ X ├┤ H ├»\n",
       "                         ░ └───┘└───┘ ░ └───┘  │  └───┘ ░ └───┘  │  └─┬─┘└───┘»\n",
       "   q_2: ─────────────────░────────────░────────┼────────░────────┼────┼───────»\n",
       "        ┌───┐┌─────────┐ ░            ░        │        ░        │    │       »\n",
       "   q_3: ┤ H ├┤ P(5π/2) ├─░────────────░────────┼────────░────────┼────┼───────»\n",
       "        ├───┤└┬───────┬┘ ░            ░      ┌─┴─┐      ░        │    │       »\n",
       "   q_4: ┤ H ├─┤ P(5π) ├──░────────────░──────┤ X ├──────░────────■────■───────»\n",
       "        └───┘ └───────┘  ░            ░      └───┘      ░                     »\n",
       "meas: 5/══════════════════════════════════════════════════════════════════════»\n",
       "                                                                              »\n",
       "«         ░ ┌───┐     ┌───┐ ░ ┌───┐┌───────┐ ░ ┌───┐          ┌───┐ ░ ┌───┐»\n",
       "«   q_0: ─░─┤ H ├──■──┤ H ├─░─┤ H ├┤ Ry(π) ├─░─┤ H ├─■────────┤ H ├─░─┤ H ├»\n",
       "«         ░ ├───┤  │  ├───┤ ░ └───┘└───┬───┘ ░ ├───┤ │        ├───┤ ░ ├───┤»\n",
       "«   q_1: ─░─┤ H ├──■──┤ H ├─░──────────■─────░─┤ H ├─■────────┤ H ├─░─┤ H ├»\n",
       "«         ░ └───┘  │  └───┘ ░                ░ └───┘ │        └───┘ ░ └───┘»\n",
       "«   q_2: ─░────────┼────────░────────────────░───────┼──────────────░──────»\n",
       "«         ░        │        ░                ░       │P(-π/2) ┌───┐ ░      »\n",
       "«   q_3: ─░────────┼────────░────────────────░───────■────────┤ H ├─░──────»\n",
       "«         ░      ┌─┴─┐      ░                ░                └───┘ ░      »\n",
       "«   q_4: ─░──────┤ X ├──────░────────────────░──────────────────────░──────»\n",
       "«         ░      └───┘      ░                ░                      ░      »\n",
       "«meas: 5/══════════════════════════════════════════════════════════════════»\n",
       "«                                                                          »\n",
       "«                    ┌───┐         ░ ┌───┐           ░  ░ ┌─┐            \n",
       "«   q_0: ─■──────────┤ H ├─────────░─┤ H ├──■────────░──░─┤M├────────────\n",
       "«         │          ├───┤         ░ ├───┤  │        ░  ░ └╥┘┌─┐         \n",
       "«   q_1: ─■──────────┤ H ├─────────░─┤ H ├──┼────■───░──░──╫─┤M├─────────\n",
       "«         │          └───┘         ░ └───┘┌─┴─┐┌─┴─┐ ░  ░  ║ └╥┘┌─┐      \n",
       "«   q_2: ─┼────────────────────────░──────┤ X ├┤ X ├─░──░──╫──╫─┤M├──────\n",
       "«         │                        ░      └───┘└───┘ ░  ░  ║  ║ └╥┘┌─┐   \n",
       "«   q_3: ─┼─────────■──────────────░─────────────────░──░──╫──╫──╫─┤M├───\n",
       "«         │P(-π/4)  │P(-π/2) ┌───┐ ░                 ░  ░  ║  ║  ║ └╥┘┌─┐\n",
       "«   q_4: ─■─────────■────────┤ H ├─░─────────────────░──░──╫──╫──╫──╫─┤M├\n",
       "«                            └───┘ ░                 ░  ░  ║  ║  ║  ║ └╥┘\n",
       "«meas: 5/══════════════════════════════════════════════════╩══╩══╩══╩══╩═\n",
       "«                                                          0  1  2  3  4 "
      ]
     },
     "execution_count": 13,
     "metadata": {},
     "output_type": "execute_result"
    }
   ],
   "source": [
    "# Encode\n",
    "qc.barrier()\n",
    "qc.cx(0,1)\n",
    "qc.h([0,1])\n",
    "\n",
    "# CCX_L\n",
    "qc.barrier()\n",
    "qc.h([0,1])\n",
    "qc.ccx(0,1,4)\n",
    "qc.h([0,1])\n",
    "\n",
    "# CXX_L\n",
    "qc.barrier()\n",
    "qc.h(0)\n",
    "qc.cx(4,0)\n",
    "qc.h(0)\n",
    "qc.h(1)\n",
    "qc.cx(4,1)\n",
    "qc.h(1)\n",
    "\n",
    "# CCX_L\n",
    "qc.barrier()\n",
    "qc.h([0,1])\n",
    "qc.ccx(0,1,4)\n",
    "qc.h([0,1])\n",
    "\n",
    "# H_L\n",
    "qc.barrier()\n",
    "qc.h(0)\n",
    "qc.cry(pi,1,0)\n",
    "\n",
    "# CP_L\n",
    "qc.barrier()\n",
    "qc.h([0,1])\n",
    "qc.mcp(-pi/2, [0,1], 3)\n",
    "qc.h([0,1])\n",
    "qc.h(3)\n",
    "\n",
    "# CP_L\n",
    "qc.barrier()\n",
    "qc.h([0,1])\n",
    "qc.mcp(-pi/4, [0,1], 4)\n",
    "qc.h([0,1])\n",
    "qc.cp(-pi/2,3,4)\n",
    "qc.h(4)\n",
    "\n",
    "# EF\n",
    "qc.barrier()\n",
    "qc.h([0,1])\n",
    "qc.cx(0,2)\n",
    "qc.cx(1,2)\n",
    "\n",
    "qc.barrier()\n",
    "qc.measure_all()\n",
    "qc.draw()"
   ]
  },
  {
   "cell_type": "code",
   "execution_count": 14,
   "id": "960fdfbb",
   "metadata": {},
   "outputs": [
    {
     "name": "stdout",
     "output_type": "stream",
     "text": [
      "{'10011': 1024}\n"
     ]
    },
    {
     "data": {
      "image/png": "[encoded data removed]",
      "text/plain": [
       "<Figure size 504x360 with 1 Axes>"
      ]
     },
     "execution_count": 14,
     "metadata": {},
     "output_type": "execute_result"
    }
   ],
   "source": [
    "aer_sim = Aer.get_backend('aer_simulator')\n",
    "qc_transpiled = transpile(qc, aer_sim, optimization_level=0)\n",
    "\n",
    "results = aer_sim.run(qc_transpiled).result()\n",
    "counts = results.get_counts()\n",
    "print(counts)\n",
    "plot_distribution(counts)"
   ]
  },
  {
   "cell_type": "code",
   "execution_count": 15,
   "id": "776b99b0",
   "metadata": {},
   "outputs": [
    {
     "data": {
      "text/html": [
       "<pre style=\"word-wrap: normal;white-space: pre;background: #fff0;line-height: 1.1;font-family: &quot;Courier New&quot;,Courier,monospace\">     ┌───┐┌─────────┐\n",
       "q_0: ┤ H ├┤ P(5π/4) ├\n",
       "     └───┘└─────────┘\n",
       "q_1: ────────────────\n",
       "                     \n",
       "q_2: ────────────────\n",
       "     ┌───┐┌─────────┐\n",
       "q_3: ┤ H ├┤ P(5π/2) ├\n",
       "     ├───┤└┬───────┬┘\n",
       "q_4: ┤ H ├─┤ P(5π) ├─\n",
       "     └───┘ └───────┘ </pre>"
      ],
      "text/plain": [
       "     ┌───┐┌─────────┐\n",
       "q_0: ┤ H ├┤ P(5π/4) ├\n",
       "     └───┘└─────────┘\n",
       "q_1: ────────────────\n",
       "                     \n",
       "q_2: ────────────────\n",
       "     ┌───┐┌─────────┐\n",
       "q_3: ┤ H ├┤ P(5π/2) ├\n",
       "     ├───┤└┬───────┬┘\n",
       "q_4: ┤ H ├─┤ P(5π) ├─\n",
       "     └───┘ └───────┘ "
      ]
     },
     "execution_count": 15,
     "metadata": {},
     "output_type": "execute_result"
    }
   ],
   "source": [
    "number = 5\n",
    "qc = QuantumCircuit(5)\n",
    "qc.h([0,3,4])\n",
    "qc.p(number*pi/4,0)\n",
    "qc.p(number*pi/2,3)\n",
    "qc.p(number*pi,4)\n",
    "\n",
    "qc.draw()"
   ]
  },
  {
   "cell_type": "code",
   "execution_count": 16,
   "id": "82b1fae7",
   "metadata": {},
   "outputs": [
    {
     "data": {
      "text/html": [
       "<pre style=\"word-wrap: normal;white-space: pre;background: #fff0;line-height: 1.1;font-family: &quot;Courier New&quot;,Courier,monospace\">        ┌───┐┌─────────┐ ░      ┌───┐ ░ ┌───┐      ┌───┐      ┌───┐      ┌───┐»\n",
       "   q_0: ┤ H ├┤ P(5π/4) ├─░───■──┤ H ├─░─┤ H ├──■───┤ X ├──■───┤ X ├──■───┤ H ├»\n",
       "        └───┘└─────────┘ ░ ┌─┴─┐├───┤ ░ ├───┤  │   └─┬─┘  │   └─┬─┘  │   ├───┤»\n",
       "   q_1: ─────────────────░─┤ X ├┤ H ├─░─┤ H ├──┼─────■────┼─────■────┼───┤ H ├»\n",
       "                         ░ └───┘└───┘ ░ └───┘  │          │          │   └───┘»\n",
       "   q_2: ─────────────────░────────────░────────┼──────────┼──────────┼────────»\n",
       "        ┌───┐┌─────────┐ ░            ░        │          │          │        »\n",
       "   q_3: ┤ H ├┤ P(5π/2) ├─░────────────░────────┼──────────┼──────────┼────────»\n",
       "        ├───┤└┬───────┬┘ ░            ░      ┌─┴──┐     ┌─┴──┐     ┌─┴──┐     »\n",
       "   q_4: ┤ H ├─┤ P(5π) ├──░────────────░──────┤ Sx ├─────┤ Sx ├─────┤ Sx ├─────»\n",
       "        └───┘ └───────┘  ░            ░      └────┘     └────┘     └────┘     »\n",
       "meas: 5/══════════════════════════════════════════════════════════════════════»\n",
       "                                                                              »\n",
       "«         ░ ┌───┐     ┌───┐     ┌───┐ ░ ┌───┐      ┌───┐      ┌───┐      ┌───┐»\n",
       "«   q_0: ─░─┤ H ├──■──┤ X ├──■──┤ H ├─░─┤ H ├──■───┤ X ├──■───┤ X ├──■───┤ H ├»\n",
       "«         ░ ├───┤┌─┴─┐└─┬─┘┌─┴─┐├───┤ ░ ├───┤  │   └─┬─┘  │   └─┬─┘  │   ├───┤»\n",
       "«   q_1: ─░─┤ H ├┤ X ├──┼──┤ X ├┤ H ├─░─┤ H ├──┼─────■────┼─────■────┼───┤ H ├»\n",
       "«         ░ └───┘└───┘  │  └───┘└───┘ ░ └───┘  │          │          │   └───┘»\n",
       "«   q_2: ─░─────────────┼─────────────░────────┼──────────┼──────────┼────────»\n",
       "«         ░             │             ░        │          │          │        »\n",
       "«   q_3: ─░─────────────┼─────────────░────────┼──────────┼──────────┼────────»\n",
       "«         ░             │             ░      ┌─┴──┐     ┌─┴──┐     ┌─┴──┐     »\n",
       "«   q_4: ─░─────────────■─────────────░──────┤ Sx ├─────┤ Sx ├─────┤ Sx ├─────»\n",
       "«         ░                           ░      └────┘     └────┘     └────┘     »\n",
       "«meas: 5/═════════════════════════════════════════════════════════════════════»\n",
       "«                                                                             »\n",
       "«         ░ ┌───┐┌───────┐ ░ ┌───┐          ┌───┐          ┌───┐          ┌───┐»\n",
       "«   q_0: ─░─┤ H ├┤ Ry(π) ├─░─┤ H ├─■────────┤ X ├─■────────┤ X ├─■────────┤ H ├»\n",
       "«         ░ └───┘└───┬───┘ ░ ├───┤ │        └─┬─┘ │        └─┬─┘ │        ├───┤»\n",
       "«   q_1: ─░──────────■─────░─┤ H ├─┼──────────■───┼──────────■───┼────────┤ H ├»\n",
       "«         ░                ░ └───┘ │              │              │        └───┘»\n",
       "«   q_2: ─░────────────────░───────┼──────────────┼──────────────┼─────────────»\n",
       "«         ░                ░       │P(-π/4)       │P(-π/4)       │P(-π/4) ┌───┐»\n",
       "«   q_3: ─░────────────────░───────■──────────────■──────────────■────────┤ H ├»\n",
       "«         ░                ░                                              └───┘»\n",
       "«   q_4: ─░────────────────░───────────────────────────────────────────────────»\n",
       "«         ░                ░                                                   »\n",
       "«meas: 5/══════════════════════════════════════════════════════════════════════»\n",
       "«                                                                              »\n",
       "«         ░ ┌───┐          ┌───┐          ┌───┐            ┌───┐         ░ »\n",
       "«   q_0: ─░─┤ H ├─■────────┤ X ├─■────────┤ X ├─■──────────┤ H ├─────────░─»\n",
       "«         ░ ├───┤ │        └─┬─┘ │        └─┬─┘ │          ├───┤         ░ »\n",
       "«   q_1: ─░─┤ H ├─┼──────────■───┼──────────■───┼──────────┤ H ├─────────░─»\n",
       "«         ░ └───┘ │              │              │          └───┘         ░ »\n",
       "«   q_2: ─░───────┼──────────────┼──────────────┼────────────────────────░─»\n",
       "«         ░       │              │              │                        ░ »\n",
       "«   q_3: ─░───────┼──────────────┼──────────────┼─────────■──────────────░─»\n",
       "«         ░       │P(-π/8)       │P(-π/8)       │P(-π/8)  │P(-π/2) ┌───┐ ░ »\n",
       "«   q_4: ─░───────■──────────────■──────────────■─────────■────────┤ H ├─░─»\n",
       "«         ░                                                        └───┘ ░ »\n",
       "«meas: 5/══════════════════════════════════════════════════════════════════»\n",
       "«                                                                          »\n",
       "«        ┌───┐           ░ ┌─┐            \n",
       "«   q_0: ┤ H ├──■────────░─┤M├────────────\n",
       "«        ├───┤  │        ░ └╥┘┌─┐         \n",
       "«   q_1: ┤ H ├──┼────■───░──╫─┤M├─────────\n",
       "«        └───┘┌─┴─┐┌─┴─┐ ░  ║ └╥┘┌─┐      \n",
       "«   q_2: ─────┤ X ├┤ X ├─░──╫──╫─┤M├──────\n",
       "«             └───┘└───┘ ░  ║  ║ └╥┘┌─┐   \n",
       "«   q_3: ────────────────░──╫──╫──╫─┤M├───\n",
       "«                        ░  ║  ║  ║ └╥┘┌─┐\n",
       "«   q_4: ────────────────░──╫──╫──╫──╫─┤M├\n",
       "«                        ░  ║  ║  ║  ║ └╥┘\n",
       "«meas: 5/═══════════════════╩══╩══╩══╩══╩═\n",
       "«                           0  1  2  3  4 </pre>"
      ],
      "text/plain": [
       "        ┌───┐┌─────────┐ ░      ┌───┐ ░ ┌───┐      ┌───┐      ┌───┐      ┌───┐»\n",
       "   q_0: ┤ H ├┤ P(5π/4) ├─░───■──┤ H ├─░─┤ H ├──■───┤ X ├──■───┤ X ├──■───┤ H ├»\n",
       "        └───┘└─────────┘ ░ ┌─┴─┐├───┤ ░ ├───┤  │   └─┬─┘  │   └─┬─┘  │   ├───┤»\n",
       "   q_1: ─────────────────░─┤ X ├┤ H ├─░─┤ H ├──┼─────■────┼─────■────┼───┤ H ├»\n",
       "                         ░ └───┘└───┘ ░ └───┘  │          │          │   └───┘»\n",
       "   q_2: ─────────────────░────────────░────────┼──────────┼──────────┼────────»\n",
       "        ┌───┐┌─────────┐ ░            ░        │          │          │        »\n",
       "   q_3: ┤ H ├┤ P(5π/2) ├─░────────────░────────┼──────────┼──────────┼────────»\n",
       "        ├───┤└┬───────┬┘ ░            ░      ┌─┴──┐     ┌─┴──┐     ┌─┴──┐     »\n",
       "   q_4: ┤ H ├─┤ P(5π) ├──░────────────░──────┤ Sx ├─────┤ Sx ├─────┤ Sx ├─────»\n",
       "        └───┘ └───────┘  ░            ░      └────┘     └────┘     └────┘     »\n",
       "meas: 5/══════════════════════════════════════════════════════════════════════»\n",
       "                                                                              »\n",
       "«         ░ ┌───┐     ┌───┐     ┌───┐ ░ ┌───┐      ┌───┐      ┌───┐      ┌───┐»\n",
       "«   q_0: ─░─┤ H ├──■──┤ X ├──■──┤ H ├─░─┤ H ├──■───┤ X ├──■───┤ X ├──■───┤ H ├»\n",
       "«         ░ ├───┤┌─┴─┐└─┬─┘┌─┴─┐├───┤ ░ ├───┤  │   └─┬─┘  │   └─┬─┘  │   ├───┤»\n",
       "«   q_1: ─░─┤ H ├┤ X ├──┼──┤ X ├┤ H ├─░─┤ H ├──┼─────■────┼─────■────┼───┤ H ├»\n",
       "«         ░ └───┘└───┘  │  └───┘└───┘ ░ └───┘  │          │          │   └───┘»\n",
       "«   q_2: ─░─────────────┼─────────────░────────┼──────────┼──────────┼────────»\n",
       "«         ░             │             ░        │          │          │        »\n",
       "«   q_3: ─░─────────────┼─────────────░────────┼──────────┼──────────┼────────»\n",
       "«         ░             │             ░      ┌─┴──┐     ┌─┴──┐     ┌─┴──┐     »\n",
       "«   q_4: ─░─────────────■─────────────░──────┤ Sx ├─────┤ Sx ├─────┤ Sx ├─────»\n",
       "«         ░                           ░      └────┘     └────┘     └────┘     »\n",
       "«meas: 5/═════════════════════════════════════════════════════════════════════»\n",
       "«                                                                             »\n",
       "«         ░ ┌───┐┌───────┐ ░ ┌───┐          ┌───┐          ┌───┐          ┌───┐»\n",
       "«   q_0: ─░─┤ H ├┤ Ry(π) ├─░─┤ H ├─■────────┤ X ├─■────────┤ X ├─■────────┤ H ├»\n",
       "«         ░ └───┘└───┬───┘ ░ ├───┤ │        └─┬─┘ │        └─┬─┘ │        ├───┤»\n",
       "«   q_1: ─░──────────■─────░─┤ H ├─┼──────────■───┼──────────■───┼────────┤ H ├»\n",
       "«         ░                ░ └───┘ │              │              │        └───┘»\n",
       "«   q_2: ─░────────────────░───────┼──────────────┼──────────────┼─────────────»\n",
       "«         ░                ░       │P(-π/4)       │P(-π/4)       │P(-π/4) ┌───┐»\n",
       "«   q_3: ─░────────────────░───────■──────────────■──────────────■────────┤ H ├»\n",
       "«         ░                ░                                              └───┘»\n",
       "«   q_4: ─░────────────────░───────────────────────────────────────────────────»\n",
       "«         ░                ░                                                   »\n",
       "«meas: 5/══════════════════════════════════════════════════════════════════════»\n",
       "«                                                                              »\n",
       "«         ░ ┌───┐          ┌───┐          ┌───┐            ┌───┐         ░ »\n",
       "«   q_0: ─░─┤ H ├─■────────┤ X ├─■────────┤ X ├─■──────────┤ H ├─────────░─»\n",
       "«         ░ ├───┤ │        └─┬─┘ │        └─┬─┘ │          ├───┤         ░ »\n",
       "«   q_1: ─░─┤ H ├─┼──────────■───┼──────────■───┼──────────┤ H ├─────────░─»\n",
       "«         ░ └───┘ │              │              │          └───┘         ░ »\n",
       "«   q_2: ─░───────┼──────────────┼──────────────┼────────────────────────░─»\n",
       "«         ░       │              │              │                        ░ »\n",
       "«   q_3: ─░───────┼──────────────┼──────────────┼─────────■──────────────░─»\n",
       "«         ░       │P(-π/8)       │P(-π/8)       │P(-π/8)  │P(-π/2) ┌───┐ ░ »\n",
       "«   q_4: ─░───────■──────────────■──────────────■─────────■────────┤ H ├─░─»\n",
       "«         ░                                                        └───┘ ░ »\n",
       "«meas: 5/══════════════════════════════════════════════════════════════════»\n",
       "«                                                                          »\n",
       "«        ┌───┐           ░ ┌─┐            \n",
       "«   q_0: ┤ H ├──■────────░─┤M├────────────\n",
       "«        ├───┤  │        ░ └╥┘┌─┐         \n",
       "«   q_1: ┤ H ├──┼────■───░──╫─┤M├─────────\n",
       "«        └───┘┌─┴─┐┌─┴─┐ ░  ║ └╥┘┌─┐      \n",
       "«   q_2: ─────┤ X ├┤ X ├─░──╫──╫─┤M├──────\n",
       "«             └───┘└───┘ ░  ║  ║ └╥┘┌─┐   \n",
       "«   q_3: ────────────────░──╫──╫──╫─┤M├───\n",
       "«                        ░  ║  ║  ║ └╥┘┌─┐\n",
       "«   q_4: ────────────────░──╫──╫──╫──╫─┤M├\n",
       "«                        ░  ║  ║  ║  ║ └╥┘\n",
       "«meas: 5/═══════════════════╩══╩══╩══╩══╩═\n",
       "«                           0  1  2  3  4 "
      ]
     },
     "execution_count": 16,
     "metadata": {},
     "output_type": "execute_result"
    }
   ],
   "source": [
    "# Encode\n",
    "qc.barrier()\n",
    "qc.cx(0,1)\n",
    "qc.h([0,1])\n",
    "\n",
    "# CCX_L\n",
    "qc.barrier()\n",
    "qc.h([0,1])\n",
    "qc.csx(0,4)\n",
    "qc.cx(1,0)\n",
    "qc.csx(0,4)\n",
    "qc.cx(1,0)\n",
    "qc.csx(0,4)\n",
    "qc.h([0,1])\n",
    "\n",
    "# CXX_L\n",
    "qc.barrier()\n",
    "qc.h([0,1])\n",
    "qc.cx(0,1)\n",
    "qc.cx(4,0)\n",
    "qc.cx(0,1)\n",
    "qc.h([0,1])\n",
    "\n",
    "# CCX_L\n",
    "qc.barrier()\n",
    "qc.h([0,1])\n",
    "qc.csx(0,4)\n",
    "qc.cx(1,0)\n",
    "qc.csx(0,4)\n",
    "qc.cx(1,0)\n",
    "qc.csx(0,4)\n",
    "qc.h([0,1])\n",
    "\n",
    "# H_L\n",
    "qc.barrier()\n",
    "qc.h(0)\n",
    "qc.cry(pi,1,0)\n",
    "\n",
    "# CP_L\n",
    "qc.barrier()\n",
    "qc.h([0,1])\n",
    "qc.cp(-pi/4,0,3)\n",
    "qc.cx(1,0)\n",
    "qc.cp(-pi/4,0,3)\n",
    "qc.cx(1,0)\n",
    "qc.cp(-pi/4,0,3)\n",
    "qc.h([0,1])\n",
    "qc.h(3)\n",
    "\n",
    "# CP_L\n",
    "qc.barrier()\n",
    "qc.h([0,1])\n",
    "qc.cp(-pi/8,0,4)\n",
    "qc.cx(1,0)\n",
    "qc.cp(-pi/8,0,4)\n",
    "qc.cx(1,0)\n",
    "qc.cp(-pi/8,0,4)\n",
    "qc.h([0,1])\n",
    "qc.cp(-pi/2,3,4)\n",
    "qc.h(4)\n",
    "\n",
    "# EF\n",
    "qc.barrier()\n",
    "qc.h([0,1])\n",
    "qc.cx(0,2)\n",
    "qc.cx(1,2)\n",
    "\n",
    "qc.measure_all()\n",
    "qc.draw()"
   ]
  },
  {
   "cell_type": "code",
   "execution_count": 17,
   "id": "acaab3d1",
   "metadata": {},
   "outputs": [
    {
     "name": "stdout",
     "output_type": "stream",
     "text": [
      "{'10011': 1024}\n"
     ]
    },
    {
     "data": {
      "image/png": "[encoded data removed]",
      "text/plain": [
       "<Figure size 504x360 with 1 Axes>"
      ]
     },
     "execution_count": 17,
     "metadata": {},
     "output_type": "execute_result"
    }
   ],
   "source": [
    "aer_sim = Aer.get_backend('aer_simulator')\n",
    "qc_transpiled = transpile(qc, aer_sim, optimization_level=0)\n",
    "\n",
    "results = aer_sim.run(qc_transpiled).result()\n",
    "counts = results.get_counts()\n",
    "print(counts)\n",
    "plot_histogram(counts)"
   ]
  },
  {
   "cell_type": "code",
   "execution_count": null,
   "id": "14cc2fb8",
   "metadata": {},
   "outputs": [],
   "source": []
  }
 ],
 "metadata": {
  "kernelspec": {
   "display_name": "Python 3",
   "language": "python",
   "name": "python3"
  },
  "language_info": {
   "codemirror_mode": {
    "name": "ipython",
    "version": 3
   },
   "file_extension": ".py",
   "mimetype": "text/x-python",
   "name": "python",
   "nbconvert_exporter": "python",
   "pygments_lexer": "ipython3",
   "version": "3.8.8"
  }
 },
 "nbformat": 4,
 "nbformat_minor": 5
}
