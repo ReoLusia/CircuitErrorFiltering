{
 "cells": [
  {
   "cell_type": "markdown",
   "id": "c92f3266",
   "metadata": {},
   "source": [
    "## Example: depolarzing noise model"
   ]
  },
  {
   "cell_type": "code",
   "execution_count": 5,
   "id": "f3e3499a",
   "metadata": {},
   "outputs": [],
   "source": [
    "from qiskit import QuantumCircuit, execute, Aer\n",
    "from qiskit.visualization import plot_histogram\n",
    "from qiskit.visualization import plot_distribution\n",
    "import qiskit_aer.noise as noise"
   ]
  },
  {
   "cell_type": "code",
   "execution_count": 39,
   "id": "e8e44bbf",
   "metadata": {},
   "outputs": [
    {
     "name": "stdout",
     "output_type": "stream",
     "text": [
      "NoiseModel:\n",
      "  Basis gates: ['cx', 'id', 'rz', 'sx', 'u1', 'u2', 'u3']\n",
      "  Instructions with noise: ['u2', 'cx', 'u3', 'u1']\n",
      "  All-qubits errors: ['u1', 'u2', 'u3', 'cx']\n"
     ]
    },
    {
     "data": {
      "text/html": [
       "<pre style=\"word-wrap: normal;white-space: pre;background: #fff0;line-height: 1.1;font-family: &quot;Courier New&quot;,Courier,monospace\">     ┌───┐          ┌─┐      \n",
       "q_0: ┤ H ├──■───────┤M├──────\n",
       "     └───┘┌─┴─┐     └╥┘┌─┐   \n",
       "q_1: ─────┤ X ├──■───╫─┤M├───\n",
       "          └───┘┌─┴─┐ ║ └╥┘┌─┐\n",
       "q_2: ──────────┤ X ├─╫──╫─┤M├\n",
       "               └───┘ ║  ║ └╥┘\n",
       "c: 3/════════════════╩══╩══╩═\n",
       "                     0  1  2 </pre>"
      ],
      "text/plain": [
       "     ┌───┐          ┌─┐      \n",
       "q_0: ┤ H ├──■───────┤M├──────\n",
       "     └───┘┌─┴─┐     └╥┘┌─┐   \n",
       "q_1: ─────┤ X ├──■───╫─┤M├───\n",
       "          └───┘┌─┴─┐ ║ └╥┘┌─┐\n",
       "q_2: ──────────┤ X ├─╫──╫─┤M├\n",
       "               └───┘ ║  ║ └╥┘\n",
       "c: 3/════════════════╩══╩══╩═\n",
       "                     0  1  2 "
      ]
     },
     "execution_count": 39,
     "metadata": {},
     "output_type": "execute_result"
    }
   ],
   "source": [
    "# Error probabilities\n",
    "prob_1 = 0.001  # 1-qubit gate\n",
    "prob_2 = 0.01   # 2-qubit gate\n",
    "\n",
    "# Depolarizing quantum errors\n",
    "error_1 = noise.depolarizing_error(prob_1, 1)\n",
    "error_2 = noise.depolarizing_error(prob_2, 2)\n",
    "\n",
    "# Add errors to noise model\n",
    "noise_model = noise.NoiseModel()\n",
    "noise_model.add_all_qubit_quantum_error(error_1, ['u1', 'u2', 'u3'])\n",
    "noise_model.add_all_qubit_quantum_error(error_2, ['cx'])\n",
    "\n",
    "print(noise_model)\n",
    "\n",
    "# Get basis gates from noise model\n",
    "basis_gates = noise_model.basis_gates\n",
    "\n",
    "# Make a circuit\n",
    "circ = QuantumCircuit(3, 3)\n",
    "circ.h(0)\n",
    "circ.cx(0, 1)\n",
    "circ.cx(1, 2)\n",
    "circ.measure([0, 1, 2], [0, 1, 2])\n",
    "circ.draw()"
   ]
  },
  {
   "cell_type": "code",
   "execution_count": 40,
   "id": "6cd9fa3e",
   "metadata": {},
   "outputs": [
    {
     "data": {
      "image/png": "[encoded data removed]",
      "text/plain": [
       "<Figure size 504x360 with 1 Axes>"
      ]
     },
     "execution_count": 40,
     "metadata": {},
     "output_type": "execute_result"
    }
   ],
   "source": [
    "# Perform a noise simulation\n",
    "result = execute(circ, Aer.get_backend('qasm_simulator'),\n",
    "                 basis_gates=basis_gates,\n",
    "                 noise_model=noise_model).result()\n",
    "counts = result.get_counts(0)\n",
    "plot_histogram(counts)"
   ]
  },
  {
   "cell_type": "markdown",
   "id": "aa65a14c",
   "metadata": {},
   "source": [
    "## 2-Qubit GHZ"
   ]
  },
  {
   "cell_type": "code",
   "execution_count": 2,
   "id": "c937ac4e",
   "metadata": {},
   "outputs": [
    {
     "name": "stdout",
     "output_type": "stream",
     "text": [
      "NoiseModel:\n",
      "  Basis gates: ['cx', 'id', 'rz', 'sx']\n",
      "  Instructions with noise: ['cx']\n",
      "  All-qubits errors: ['cx']\n"
     ]
    },
    {
     "data": {
      "text/html": [
       "<pre style=\"word-wrap: normal;white-space: pre;background: #fff0;line-height: 1.1;font-family: &quot;Courier New&quot;,Courier,monospace\">     ┌───┐     ┌─┐   \n",
       "q_0: ┤ H ├──■──┤M├───\n",
       "     └───┘┌─┴─┐└╥┘┌─┐\n",
       "q_1: ─────┤ X ├─╫─┤M├\n",
       "          └───┘ ║ └╥┘\n",
       "c: 2/═══════════╩══╩═\n",
       "                0  1 </pre>"
      ],
      "text/plain": [
       "     ┌───┐     ┌─┐   \n",
       "q_0: ┤ H ├──■──┤M├───\n",
       "     └───┘┌─┴─┐└╥┘┌─┐\n",
       "q_1: ─────┤ X ├─╫─┤M├\n",
       "          └───┘ ║ └╥┘\n",
       "c: 2/═══════════╩══╩═\n",
       "                0  1 "
      ]
     },
     "execution_count": 2,
     "metadata": {},
     "output_type": "execute_result"
    }
   ],
   "source": [
    "# Error probabilities\n",
    "prob = 0.01   # 2-qubit gate\n",
    "\n",
    "# Depolarizing quantum errors\n",
    "error = noise.depolarizing_error(prob, 2)\n",
    "\n",
    "# Add errors to noise model\n",
    "noise_model_GHZ_2Q = noise.NoiseModel()\n",
    "noise_model_GHZ_2Q.add_all_qubit_quantum_error(error, ['cx'])\n",
    "\n",
    "print(noise_model_GHZ_2Q)\n",
    "\n",
    "# Get basis gates from noise model\n",
    "basis_gates_GHZ_2Q = noise_model_GHZ_2Q.basis_gates\n",
    "\n",
    "# Make a circuit\n",
    "GHZ_2Q = QuantumCircuit(2, 2)\n",
    "GHZ_2Q.h(0)\n",
    "GHZ_2Q.cx(0, 1)\n",
    "GHZ_2Q.barrier()\n",
    "GHZ_2Q.measure([0, 1], [0, 1])\n",
    "GHZ_2Q.draw()"
   ]
  },
  {
   "cell_type": "code",
   "execution_count": 6,
   "id": "97755ad9",
   "metadata": {},
   "outputs": [
    {
     "name": "stdout",
     "output_type": "stream",
     "text": [
      "{'11': 530, '00': 489, '01': 2, '10': 3}\n"
     ]
    },
    {
     "data": {
      "image/png": "[encoded data removed]",
      "text/plain": [
       "<Figure size 504x360 with 1 Axes>"
      ]
     },
     "execution_count": 6,
     "metadata": {},
     "output_type": "execute_result"
    }
   ],
   "source": [
    "# Perform a noise simulation\n",
    "result = execute(GHZ_2Q, Aer.get_backend('qasm_simulator'),\n",
    "                 basis_gates=basis_gates_GHZ_2Q,\n",
    "                 noise_model=noise_model_GHZ_2Q).result()\n",
    "counts_GHZ_2Q = result.get_counts()\n",
    "print(counts_GHZ_2Q)\n",
    "plot_distribution(counts_GHZ_2Q)"
   ]
  },
  {
   "cell_type": "code",
   "execution_count": 8,
   "id": "15799928",
   "metadata": {},
   "outputs": [
    {
     "data": {
      "text/html": [
       "<pre style=\"word-wrap: normal;white-space: pre;background: #fff0;line-height: 1.1;font-family: &quot;Courier New&quot;,Courier,monospace\">          ┌───────┐┌───┐                ░ ┌─┐         \n",
       "q_0: ─────┤ Ry(π) ├┤ H ├──■────■────────░─┤M├─────────\n",
       "     ┌───┐└───┬───┘├───┤  │    │        ░ └╥┘┌─┐      \n",
       "q_1: ┤ H ├────■────┤ H ├──┼────┼────■───░──╫─┤M├──────\n",
       "     └───┘         └───┘  │  ┌─┴─┐┌─┴─┐ ░  ║ └╥┘┌─┐   \n",
       "q_2: ─────────────────────┼──┤ X ├┤ X ├─░──╫──╫─┤M├───\n",
       "                        ┌─┴─┐└───┘└───┘ ░  ║  ║ └╥┘┌─┐\n",
       "q_3: ───────────────────┤ X ├───────────░──╫──╫──╫─┤M├\n",
       "                        └───┘           ░  ║  ║  ║ └╥┘\n",
       "c: 4/══════════════════════════════════════╩══╩══╩══╩═\n",
       "                                           0  1  2  3 </pre>"
      ],
      "text/plain": [
       "          ┌───────┐┌───┐                ░ ┌─┐         \n",
       "q_0: ─────┤ Ry(π) ├┤ H ├──■────■────────░─┤M├─────────\n",
       "     ┌───┐└───┬───┘├───┤  │    │        ░ └╥┘┌─┐      \n",
       "q_1: ┤ H ├────■────┤ H ├──┼────┼────■───░──╫─┤M├──────\n",
       "     └───┘         └───┘  │  ┌─┴─┐┌─┴─┐ ░  ║ └╥┘┌─┐   \n",
       "q_2: ─────────────────────┼──┤ X ├┤ X ├─░──╫──╫─┤M├───\n",
       "                        ┌─┴─┐└───┘└───┘ ░  ║  ║ └╥┘┌─┐\n",
       "q_3: ───────────────────┤ X ├───────────░──╫──╫──╫─┤M├\n",
       "                        └───┘           ░  ║  ║  ║ └╥┘\n",
       "c: 4/══════════════════════════════════════╩══╩══╩══╩═\n",
       "                                           0  1  2  3 "
      ]
     },
     "execution_count": 8,
     "metadata": {},
     "output_type": "execute_result"
    }
   ],
   "source": [
    "from numpy import pi\n",
    "\n",
    "# Make a circuit\n",
    "GHZ_2Q_ER = QuantumCircuit(4, 4)\n",
    "\n",
    "# Logical Hadamard\n",
    "GHZ_2Q_ER.h(1)\n",
    "GHZ_2Q_ER.cry(pi,1,0)\n",
    "GHZ_2Q_ER.h(0)\n",
    "GHZ_2Q_ER.h(1)\n",
    "\n",
    "# Logical CX\n",
    "GHZ_2Q_ER.cx(0, 3)\n",
    "\n",
    "# Error Rejection\n",
    "GHZ_2Q_ER.cx(0, 2)\n",
    "GHZ_2Q_ER.cx(1, 2)\n",
    "\n",
    "GHZ_2Q_ER.barrier()\n",
    "GHZ_2Q_ER.measure(range(4),range(4))\n",
    "GHZ_2Q_ER.draw()"
   ]
  },
  {
   "cell_type": "code",
   "execution_count": 9,
   "id": "c1bc0b3d",
   "metadata": {},
   "outputs": [
    {
     "name": "stdout",
     "output_type": "stream",
     "text": [
      "{'1011': 474, '0000': 526, '0001': 2, '1110': 5, '1111': 3, '0110': 2, '0011': 1, '1101': 3, '0010': 2, '0101': 2, '0100': 3, '1001': 1}\n"
     ]
    },
    {
     "data": {
      "image/png": "[encoded data removed]",
      "text/plain": [
       "<Figure size 504x360 with 1 Axes>"
      ]
     },
     "execution_count": 9,
     "metadata": {},
     "output_type": "execute_result"
    }
   ],
   "source": [
    "# Perform a noise simulation\n",
    "result = execute(GHZ_2Q_ER, Aer.get_backend('qasm_simulator'),\n",
    "                 basis_gates=basis_gates_GHZ_2Q,\n",
    "                 noise_model=noise_model_GHZ_2Q).result()\n",
    "counts_GHZ_2Q_ER = result.get_counts(0)\n",
    "print(counts_GHZ_2Q_ER)\n",
    "plot_distribution(counts_GHZ_2Q_ER)"
   ]
  },
  {
   "cell_type": "code",
   "execution_count": 11,
   "id": "eb6f828f",
   "metadata": {},
   "outputs": [
    {
     "data": {
      "image/png": "[encoded data removed]",
      "text/plain": [
       "<Figure size 504x360 with 1 Axes>"
      ]
     },
     "execution_count": 11,
     "metadata": {},
     "output_type": "execute_result"
    }
   ],
   "source": [
    "counts_GHZ_2Q_ER = {'11': 474, '00': 526, '01': 1}\n",
    "plot_distribution(counts_GHZ_2Q_ER)"
   ]
  },
  {
   "cell_type": "markdown",
   "id": "acb90945",
   "metadata": {},
   "source": [
    "## 3-Qubit GHZ"
   ]
  },
  {
   "cell_type": "code",
   "execution_count": 13,
   "id": "1a086fb8",
   "metadata": {},
   "outputs": [
    {
     "name": "stdout",
     "output_type": "stream",
     "text": [
      "NoiseModel:\n",
      "  Basis gates: ['cx', 'id', 'rz', 'sx']\n",
      "  Instructions with noise: ['cx']\n",
      "  All-qubits errors: ['cx']\n"
     ]
    },
    {
     "data": {
      "text/html": [
       "<pre style=\"word-wrap: normal;white-space: pre;background: #fff0;line-height: 1.1;font-family: &quot;Courier New&quot;,Courier,monospace\">     ┌───┐           ░ ┌─┐      \n",
       "q_0: ┤ H ├──■────■───░─┤M├──────\n",
       "     └───┘┌─┴─┐  │   ░ └╥┘┌─┐   \n",
       "q_1: ─────┤ X ├──┼───░──╫─┤M├───\n",
       "          └───┘┌─┴─┐ ░  ║ └╥┘┌─┐\n",
       "q_2: ──────────┤ X ├─░──╫──╫─┤M├\n",
       "               └───┘ ░  ║  ║ └╥┘\n",
       "c: 3/═══════════════════╩══╩══╩═\n",
       "                        0  1  2 </pre>"
      ],
      "text/plain": [
       "     ┌───┐           ░ ┌─┐      \n",
       "q_0: ┤ H ├──■────■───░─┤M├──────\n",
       "     └───┘┌─┴─┐  │   ░ └╥┘┌─┐   \n",
       "q_1: ─────┤ X ├──┼───░──╫─┤M├───\n",
       "          └───┘┌─┴─┐ ░  ║ └╥┘┌─┐\n",
       "q_2: ──────────┤ X ├─░──╫──╫─┤M├\n",
       "               └───┘ ░  ║  ║ └╥┘\n",
       "c: 3/═══════════════════╩══╩══╩═\n",
       "                        0  1  2 "
      ]
     },
     "execution_count": 13,
     "metadata": {},
     "output_type": "execute_result"
    }
   ],
   "source": [
    "# Error probabilities\n",
    "prob = 0.01   # 2-qubit gate\n",
    "\n",
    "# Depolarizing quantum errors\n",
    "error = noise.depolarizing_error(prob, 2)\n",
    "\n",
    "# Add errors to noise model\n",
    "noise_model_GHZ_3Q = noise.NoiseModel()\n",
    "noise_model_GHZ_3Q.add_all_qubit_quantum_error(error, ['cx'])\n",
    "\n",
    "print(noise_model_GHZ_3Q)\n",
    "\n",
    "# Get basis gates from noise model\n",
    "basis_gates_GHZ_3Q = noise_model_GHZ_3Q.basis_gates\n",
    "\n",
    "# Make a circuit\n",
    "GHZ_3Q = QuantumCircuit(3, 3)\n",
    "GHZ_3Q.h(0)\n",
    "GHZ_3Q.cx(0, 1)\n",
    "GHZ_3Q.cx(0, 2)\n",
    "GHZ_3Q.barrier()\n",
    "GHZ_3Q.measure(range(3), range(3))\n",
    "GHZ_3Q.draw()"
   ]
  },
  {
   "cell_type": "code",
   "execution_count": 14,
   "id": "bb9675bb",
   "metadata": {},
   "outputs": [
    {
     "name": "stdout",
     "output_type": "stream",
     "text": [
      "{'000': 512, '111': 495, '110': 4, '001': 2, '010': 4, '101': 3, '100': 2, '011': 2}\n"
     ]
    },
    {
     "data": {
      "image/png": "[encoded data removed]",
      "text/plain": [
       "<Figure size 504x360 with 1 Axes>"
      ]
     },
     "execution_count": 14,
     "metadata": {},
     "output_type": "execute_result"
    }
   ],
   "source": [
    "# Perform a noise simulation\n",
    "result = execute(GHZ_3Q, Aer.get_backend('qasm_simulator'),\n",
    "                 basis_gates=basis_gates_GHZ_3Q,\n",
    "                 noise_model=noise_model_GHZ_3Q).result()\n",
    "counts_GHZ_3Q = result.get_counts()\n",
    "print(counts_GHZ_3Q)\n",
    "plot_distribution(counts_GHZ_3Q)"
   ]
  },
  {
   "cell_type": "code",
   "execution_count": 15,
   "id": "fa308f58",
   "metadata": {},
   "outputs": [
    {
     "data": {
      "text/html": [
       "<pre style=\"word-wrap: normal;white-space: pre;background: #fff0;line-height: 1.1;font-family: &quot;Courier New&quot;,Courier,monospace\">          ┌───────┐┌───┐           ░            ░ ┌─┐            \n",
       "q_0: ─────┤ Ry(π) ├┤ H ├──■────■───░───■────────░─┤M├────────────\n",
       "     ┌───┐└───┬───┘├───┤  │    │   ░   │        ░ └╥┘┌─┐         \n",
       "q_1: ┤ H ├────■────┤ H ├──┼────┼───░───┼────■───░──╫─┤M├─────────\n",
       "     └───┘         └───┘  │    │   ░ ┌─┴─┐┌─┴─┐ ░  ║ └╥┘┌─┐      \n",
       "q_2: ─────────────────────┼────┼───░─┤ X ├┤ X ├─░──╫──╫─┤M├──────\n",
       "                        ┌─┴─┐  │   ░ └───┘└───┘ ░  ║  ║ └╥┘┌─┐   \n",
       "q_3: ───────────────────┤ X ├──┼───░────────────░──╫──╫──╫─┤M├───\n",
       "                        └───┘┌─┴─┐ ░            ░  ║  ║  ║ └╥┘┌─┐\n",
       "q_4: ────────────────────────┤ X ├─░────────────░──╫──╫──╫──╫─┤M├\n",
       "                             └───┘ ░            ░  ║  ║  ║  ║ └╥┘\n",
       "c: 5/══════════════════════════════════════════════╩══╩══╩══╩══╩═\n",
       "                                                   0  1  2  3  4 </pre>"
      ],
      "text/plain": [
       "          ┌───────┐┌───┐           ░            ░ ┌─┐            \n",
       "q_0: ─────┤ Ry(π) ├┤ H ├──■────■───░───■────────░─┤M├────────────\n",
       "     ┌───┐└───┬───┘├───┤  │    │   ░   │        ░ └╥┘┌─┐         \n",
       "q_1: ┤ H ├────■────┤ H ├──┼────┼───░───┼────■───░──╫─┤M├─────────\n",
       "     └───┘         └───┘  │    │   ░ ┌─┴─┐┌─┴─┐ ░  ║ └╥┘┌─┐      \n",
       "q_2: ─────────────────────┼────┼───░─┤ X ├┤ X ├─░──╫──╫─┤M├──────\n",
       "                        ┌─┴─┐  │   ░ └───┘└───┘ ░  ║  ║ └╥┘┌─┐   \n",
       "q_3: ───────────────────┤ X ├──┼───░────────────░──╫──╫──╫─┤M├───\n",
       "                        └───┘┌─┴─┐ ░            ░  ║  ║  ║ └╥┘┌─┐\n",
       "q_4: ────────────────────────┤ X ├─░────────────░──╫──╫──╫──╫─┤M├\n",
       "                             └───┘ ░            ░  ║  ║  ║  ║ └╥┘\n",
       "c: 5/══════════════════════════════════════════════╩══╩══╩══╩══╩═\n",
       "                                                   0  1  2  3  4 "
      ]
     },
     "execution_count": 15,
     "metadata": {},
     "output_type": "execute_result"
    }
   ],
   "source": [
    "from numpy import pi\n",
    "\n",
    "# Make a circuit\n",
    "GHZ_3Q_ER = QuantumCircuit(5, 5)\n",
    "\n",
    "# Logical Hadamard\n",
    "GHZ_3Q_ER.h(1)\n",
    "GHZ_3Q_ER.cry(pi,1,0)\n",
    "GHZ_3Q_ER.h(0)\n",
    "GHZ_3Q_ER.h(1)\n",
    "\n",
    "# Logical CX\n",
    "GHZ_3Q_ER.cx(0, 3)\n",
    "GHZ_3Q_ER.cx(0, 4)\n",
    "\n",
    "# Error Rejection\n",
    "GHZ_3Q_ER.barrier()\n",
    "GHZ_3Q_ER.cx(0, 2)\n",
    "GHZ_3Q_ER.cx(1, 2)\n",
    "\n",
    "GHZ_3Q_ER.barrier()\n",
    "GHZ_3Q_ER.measure(range(5),range(5))\n",
    "GHZ_3Q_ER.draw()"
   ]
  },
  {
   "cell_type": "code",
   "execution_count": 16,
   "id": "f3603af3",
   "metadata": {},
   "outputs": [
    {
     "name": "stdout",
     "output_type": "stream",
     "text": [
      "{'11011': 475, '00000': 517, '00001': 2, '10101': 1, '11110': 3, '01110': 2, '11101': 8, '11111': 2, '01000': 2, '00110': 5, '10000': 1, '00010': 2, '11010': 2, '01011': 1, '00100': 1}\n"
     ]
    },
    {
     "data": {
      "image/png": "[encoded data removed]",
      "text/plain": [
       "<Figure size 504x360 with 1 Axes>"
      ]
     },
     "execution_count": 16,
     "metadata": {},
     "output_type": "execute_result"
    }
   ],
   "source": [
    "# Perform a noise simulation\n",
    "result = execute(GHZ_3Q_ER, Aer.get_backend('qasm_simulator'),\n",
    "                 basis_gates=basis_gates_GHZ_3Q,\n",
    "                 noise_model=noise_model_GHZ_3Q).result()\n",
    "counts_GHZ_3Q_ER = result.get_counts(0)\n",
    "print(counts_GHZ_3Q_ER)\n",
    "plot_distribution(counts_GHZ_3Q_ER)"
   ]
  },
  {
   "cell_type": "code",
   "execution_count": 17,
   "id": "def8ed23",
   "metadata": {},
   "outputs": [
    {
     "data": {
      "image/png": "[encoded data removed]",
      "text/plain": [
       "<Figure size 504x360 with 1 Axes>"
      ]
     },
     "execution_count": 17,
     "metadata": {},
     "output_type": "execute_result"
    }
   ],
   "source": [
    "counts_GHZ_3Q_ER = {'111': 475, '000': 517, '010': 2, '100': 1, '011': 1}\n",
    "plot_distribution(counts_GHZ_3Q_ER)"
   ]
  },
  {
   "cell_type": "code",
   "execution_count": null,
   "id": "c02c4d5b",
   "metadata": {},
   "outputs": [],
   "source": []
  }
 ],
 "metadata": {
  "kernelspec": {
   "display_name": "Python 3",
   "language": "python",
   "name": "python3"
  },
  "language_info": {
   "codemirror_mode": {
    "name": "ipython",
    "version": 3
   },
   "file_extension": ".py",
   "mimetype": "text/x-python",
   "name": "python",
   "nbconvert_exporter": "python",
   "pygments_lexer": "ipython3",
   "version": "3.8.8"
  }
 },
 "nbformat": 4,
 "nbformat_minor": 5
}
